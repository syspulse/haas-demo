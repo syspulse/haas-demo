{
 "cells": [
  {
   "cell_type": "code",
   "execution_count": 2,
   "id": "27129e25-ee75-4d18-859c-6e2916a954fb",
   "metadata": {},
   "outputs": [
    {
     "data": {
      "application/vnd.jupyter.widget-view+json": {
       "model_id": "",
       "version_major": 2,
       "version_minor": 0
      },
      "text/plain": [
       "FloatProgress(value=0.0, bar_style='info', description='Progress:', layout=Layout(height='25px', width='50%'),…"
      ]
     },
     "metadata": {},
     "output_type": "display_data"
    }
   ],
   "source": [
    "from pyspark.sql import SparkSession\n",
    "\n",
    "spark = SparkSession.builder.getOrCreate()\n",
    "schema = \"token_address string, from_address string, to_address string, value decimal, transaction_hash string, log_index int, block_number int, ts long\""
   ]
  },
  {
   "cell_type": "code",
   "execution_count": 3,
   "id": "5f8159b0-91c7-4185-8f12-218f53e04acc",
   "metadata": {},
   "outputs": [
    {
     "data": {
      "application/vnd.jupyter.widget-view+json": {
       "model_id": "",
       "version_major": 2,
       "version_minor": 0
      },
      "text/plain": [
       "FloatProgress(value=0.0, bar_style='info', description='Progress:', layout=Layout(height='25px', width='50%'),…"
      ]
     },
     "metadata": {},
     "output_type": "display_data"
    }
   ],
   "source": [
    "df = spark.read.schema(schema).csv('s3a://haas-data-dev/data/dev/ethereum/raw/csv/tokens/2022/10/13/token-23_53_11.csv',inferSchema=True)"
   ]
  },
  {
   "cell_type": "code",
   "execution_count": 4,
   "id": "e7c6cee8-dc3f-4ff7-b5eb-affc5b623665",
   "metadata": {},
   "outputs": [
    {
     "data": {
      "application/vnd.jupyter.widget-view+json": {
       "model_id": "",
       "version_major": 2,
       "version_minor": 0
      },
      "text/plain": [
       "FloatProgress(value=0.0, bar_style='info', description='Progress:', layout=Layout(height='25px', width='50%'),…"
      ]
     },
     "metadata": {},
     "output_type": "display_data"
    },
    {
     "name": "stdout",
     "output_type": "stream",
     "text": [
      "+------------------------------------------+-----+\n",
      "|                                to_address|value|\n",
      "+------------------------------------------+-----+\n",
      "|0xbd2c2f2ba4ac64217183f70ae970286282c4d896|  751|\n",
      "|0xbd2c2f2ba4ac64217183f70ae970286282c4d896|  752|\n",
      "|0xbd2c2f2ba4ac64217183f70ae970286282c4d896|  753|\n",
      "|0xbd2c2f2ba4ac64217183f70ae970286282c4d896|  754|\n",
      "|0xbd2c2f2ba4ac64217183f70ae970286282c4d896|  755|\n",
      "|0xc16935fa29de7f078d54d3016bbffd204378785b|  756|\n",
      "|0xc16935fa29de7f078d54d3016bbffd204378785b|  757|\n",
      "|0xc16935fa29de7f078d54d3016bbffd204378785b|  758|\n",
      "|0xc16935fa29de7f078d54d3016bbffd204378785b|  759|\n",
      "|0xc16935fa29de7f078d54d3016bbffd204378785b|  760|\n",
      "+------------------------------------------+-----+\n",
      "only showing top 10 rows"
     ]
    }
   ],
   "source": [
    "df.where(\"from_address == '0x0000000000000000000000000000000000000000'\").select(\"to_address\",\"value\").show(10,100)"
   ]
  },
  {
   "cell_type": "code",
   "execution_count": null,
   "id": "a256ebb0-822f-4d4e-ad48-0a56a942fdf4",
   "metadata": {},
   "outputs": [],
   "source": []
  }
 ],
 "metadata": {
  "kernelspec": {
   "display_name": "PySpark",
   "language": "python",
   "name": "pysparkkernel"
  },
  "language_info": {
   "codemirror_mode": {
    "name": "python",
    "version": 3
   },
   "file_extension": ".py",
   "mimetype": "text/x-python",
   "name": "pyspark",
   "pygments_lexer": "python3"
  }
 },
 "nbformat": 4,
 "nbformat_minor": 5
}
