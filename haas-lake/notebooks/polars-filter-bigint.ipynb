{
 "cells": [
  {
   "cell_type": "code",
   "execution_count": 23,
   "metadata": {},
   "outputs": [],
   "source": [
    "import polars as pl"
   ]
  },
  {
   "cell_type": "code",
   "execution_count": 24,
   "metadata": {},
   "outputs": [],
   "source": [
    "df = pl.scan_parquet(\"ethereum__transactions__10861674_to_10861674.parquet\")"
   ]
  },
  {
   "cell_type": "code",
   "execution_count": 25,
   "metadata": {},
   "outputs": [
    {
     "data": {
      "text/html": [
       "<div><style>\n",
       ".dataframe > thead > tr > th,\n",
       ".dataframe > tbody > tr > td {\n",
       "  text-align: right;\n",
       "}\n",
       "</style>\n",
       "<small>shape: (30, 2)</small><table border=\"1\" class=\"dataframe\"><thead><tr><th>from_address</th><th>value</th></tr><tr><td>binary</td><td>f32</td></tr></thead><tbody><tr><td>[binary data]</td><td>1.0000e16</td></tr><tr><td>[binary data]</td><td>2.9246e17</td></tr><tr><td>[binary data]</td><td>6.8461e16</td></tr><tr><td>[binary data]</td><td>1.4667e17</td></tr><tr><td>[binary data]</td><td>4.7803e16</td></tr><tr><td>[binary data]</td><td>2.6459e16</td></tr><tr><td>[binary data]</td><td>7.9479e15</td></tr><tr><td>[binary data]</td><td>2.6491e16</td></tr><tr><td>[binary data]</td><td>5.6043e16</td></tr><tr><td>[binary data]</td><td>6.1357e16</td></tr><tr><td>[binary data]</td><td>6.8242e16</td></tr><tr><td>[binary data]</td><td>4.7033e16</td></tr><tr><td>&hellip;</td><td>&hellip;</td></tr><tr><td>[binary data]</td><td>3.4355e15</td></tr><tr><td>[binary data]</td><td>3.4355e15</td></tr><tr><td>[binary data]</td><td>3.3784e15</td></tr><tr><td>[binary data]</td><td>3.3784e15</td></tr><tr><td>[binary data]</td><td>3.3784e15</td></tr><tr><td>[binary data]</td><td>3.3784e15</td></tr><tr><td>[binary data]</td><td>3.3784e15</td></tr><tr><td>[binary data]</td><td>2.4400e17</td></tr><tr><td>[binary data]</td><td>4.0000e19</td></tr><tr><td>[binary data]</td><td>3.0000e18</td></tr><tr><td>[binary data]</td><td>9.7650e15</td></tr><tr><td>[binary data]</td><td>2.0779e19</td></tr></tbody></table></div>"
      ],
      "text/plain": [
       "shape: (30, 2)\n",
       "┌───────────────┬───────────┐\n",
       "│ from_address  ┆ value     │\n",
       "│ ---           ┆ ---       │\n",
       "│ binary        ┆ f32       │\n",
       "╞═══════════════╪═══════════╡\n",
       "│ [binary data] ┆ 1.0000e16 │\n",
       "│ [binary data] ┆ 2.9246e17 │\n",
       "│ [binary data] ┆ 6.8461e16 │\n",
       "│ [binary data] ┆ 1.4667e17 │\n",
       "│ …             ┆ …         │\n",
       "│ [binary data] ┆ 4.0000e19 │\n",
       "│ [binary data] ┆ 3.0000e18 │\n",
       "│ [binary data] ┆ 9.7650e15 │\n",
       "│ [binary data] ┆ 2.0779e19 │\n",
       "└───────────────┴───────────┘"
      ]
     },
     "execution_count": 25,
     "metadata": {},
     "output_type": "execute_result"
    }
   ],
   "source": [
    "df.select(pl.col(\"from_address\"),pl.col(\"value\").cast(pl.Float32)).filter(pl.col(\"value\") != 0).collect()"
   ]
  },
  {
   "cell_type": "code",
   "execution_count": 26,
   "metadata": {},
   "outputs": [],
   "source": [
    "def bigint(val: str,limit: int) -> bool:\n",
    "    return int(val) > limit"
   ]
  },
  {
   "cell_type": "code",
   "execution_count": 28,
   "metadata": {},
   "outputs": [
    {
     "name": "stderr",
     "output_type": "stream",
     "text": [
      "/tmp/ipykernel_711005/2097621015.py:1: PolarsInefficientApplyWarning: \n",
      "Expr.apply is significantly slower than the native expressions API.\n",
      "Only use if you absolutely CANNOT implement your logic otherwise.\n",
      "In this case, you can replace your `apply` with the following:\n",
      "  - pl.col(\"value\").apply(lambda v: ...)\n",
      "  + pl.col(\"value\").cast(pl.Int64) >= 40000000000000000000\n",
      "\n",
      "  df.select(pl.col(\"value\"),pl.col(\"value\").apply(lambda v: int(v) >= 40000000000000000000).alias(\"res\")).filter(pl.col(\"res\") == True).collect()\n"
     ]
    },
    {
     "data": {
      "text/html": [
       "<div><style>\n",
       ".dataframe > thead > tr > th,\n",
       ".dataframe > tbody > tr > td {\n",
       "  text-align: right;\n",
       "}\n",
       "</style>\n",
       "<small>shape: (1, 2)</small><table border=\"1\" class=\"dataframe\"><thead><tr><th>value</th><th>res</th></tr><tr><td>str</td><td>bool</td></tr></thead><tbody><tr><td>&quot;40000000000000…</td><td>true</td></tr></tbody></table></div>"
      ],
      "text/plain": [
       "shape: (1, 2)\n",
       "┌──────────────────────┬──────┐\n",
       "│ value                ┆ res  │\n",
       "│ ---                  ┆ ---  │\n",
       "│ str                  ┆ bool │\n",
       "╞══════════════════════╪══════╡\n",
       "│ 40000000000000000000 ┆ true │\n",
       "└──────────────────────┴──────┘"
      ]
     },
     "execution_count": 28,
     "metadata": {},
     "output_type": "execute_result"
    }
   ],
   "source": [
    "df.select(pl.col(\"value\"),pl.col(\"value\").apply(lambda v: int(v) >= 40000000000000000000).alias(\"res\")).filter(pl.col(\"res\") == True).collect()"
   ]
  },
  {
   "cell_type": "code",
   "execution_count": 29,
   "metadata": {},
   "outputs": [
    {
     "data": {
      "text/html": [
       "<div><style>\n",
       ".dataframe > thead > tr > th,\n",
       ".dataframe > tbody > tr > td {\n",
       "  text-align: right;\n",
       "}\n",
       "</style>\n",
       "<small>shape: (1, 2)</small><table border=\"1\" class=\"dataframe\"><thead><tr><th>from_address</th><th>value</th></tr><tr><td>binary</td><td>f32</td></tr></thead><tbody><tr><td>[binary data]</td><td>4.0000e19</td></tr></tbody></table></div>"
      ],
      "text/plain": [
       "shape: (1, 2)\n",
       "┌───────────────┬───────────┐\n",
       "│ from_address  ┆ value     │\n",
       "│ ---           ┆ ---       │\n",
       "│ binary        ┆ f32       │\n",
       "╞═══════════════╪═══════════╡\n",
       "│ [binary data] ┆ 4.0000e19 │\n",
       "└───────────────┴───────────┘"
      ]
     },
     "execution_count": 29,
     "metadata": {},
     "output_type": "execute_result"
    }
   ],
   "source": [
    "df.select(pl.col(\"from_address\"),pl.col(\"value\").cast(pl.Float32)).filter(pl.col(\"value\") >= 4e19).collect()"
   ]
  }
 ],
 "metadata": {
  "kernelspec": {
   "display_name": "Python 3 (ipykernel)",
   "language": "python",
   "name": "python3"
  },
  "language_info": {
   "codemirror_mode": {
    "name": "ipython",
    "version": 3
   },
   "file_extension": ".py",
   "mimetype": "text/x-python",
   "name": "python",
   "nbconvert_exporter": "python",
   "pygments_lexer": "ipython3",
   "version": "3.8.10"
  }
 },
 "nbformat": 4,
 "nbformat_minor": 4
}
