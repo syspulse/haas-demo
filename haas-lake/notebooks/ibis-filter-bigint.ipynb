{
 "cells": [
  {
   "cell_type": "code",
   "execution_count": 178,
   "metadata": {},
   "outputs": [],
   "source": [
    "import ibis\n",
    "from ibis import _\n",
    "ibis.options.interactive = True"
   ]
  },
  {
   "cell_type": "code",
   "execution_count": 179,
   "metadata": {},
   "outputs": [],
   "source": [
    "t = ibis.read_parquet(\"ethereum__transactions__10861674_to_10861674.parquet\")"
   ]
  },
  {
   "cell_type": "code",
   "execution_count": 180,
   "metadata": {},
   "outputs": [
    {
     "data": {
      "text/html": [
       "<pre style=\"white-space:pre;overflow-x:auto;line-height:normal;font-family:Menlo,'DejaVu Sans Mono',consolas,'Courier New',monospace\">┏━━━━━━━━━━━━━━┳━━━━━━━━━━━━━━━━━━━┳━━━━━━━━━━━━━━━━━━━━━━━━━━━━━━━━━━━━━━━━━━━━━━━━━━━━━━━━━━━━━━━━━━━━━━━━━━━━━━━━━━━━━━━━━━━━━━━━━━━━━━━━━━━━━━┳━━━━━━━━━┳━━━━━━━━━━━━━━━━━━━━━━━━━━━━━━━━━━━━━━━━━━━━━━━━━━━━━━━━━━━━━━━━━━━━━━━━━━━━┳━━━━━━━━━━━━━━━━━━━━━━━━━━━━━━━━━━━━━━━━━━━━━━━━━━━━━━━━━━━━━━━━━━━━┳━━━━━━━━━━━━━━━━━━━━┳━━━━━━━━━━━━━━━━━━━━━━━━━━━━━━━━━━━━━━━━━━━━━━━━━━━━━━━━━━━━━━━━━━━━━━━━━━━━━━━━━━━━━━━━━━━━━━━━━━━━━━━━━━━━━━━━━━━━━━━━━━━━━━━━━━━━━━━━━━━━━━━━━━━━━━━━━━━━━━━━━━━━━━━━━━━━━━━━━━━━━━━━━━━━━━━━━━━━━━━━━━━━━━━━━━━━━━━━━━━━━━━━━━━━━━━━━━━━━━━━━━━━━━━━━━━━━━━━━━━━━━━━━━━━━━━━━━━━━━━━━━━━━━━━━━━━━━━━━━━━━━━━━━┳━━━━━━━━━━━┳━━━━━━━━━━━━━┳━━━━━━━━━━━━━━━━━━┳━━━━━━━━━━━━━━━━━━━━━━━━━━┳━━━━━━━━━━━━━━━━━┳━━━━━━━━━━┓\n",
       "┃<span style=\"font-weight: bold\"> block_number </span>┃<span style=\"font-weight: bold\"> transaction_index </span>┃<span style=\"font-weight: bold\"> transaction_hash                                                                                             </span>┃<span style=\"font-weight: bold\"> nonce   </span>┃<span style=\"font-weight: bold\"> from_address                                                               </span>┃<span style=\"font-weight: bold\"> to_address                                                         </span>┃<span style=\"font-weight: bold\"> value              </span>┃<span style=\"font-weight: bold\"> input                                                                                                                                                                                                                                                                                                            </span>┃<span style=\"font-weight: bold\"> gas_limit </span>┃<span style=\"font-weight: bold\"> gas_price   </span>┃<span style=\"font-weight: bold\"> transaction_type </span>┃<span style=\"font-weight: bold\"> max_priority_fee_per_gas </span>┃<span style=\"font-weight: bold\"> max_fee_per_gas </span>┃<span style=\"font-weight: bold\"> chain_id </span>┃\n",
       "┡━━━━━━━━━━━━━━╇━━━━━━━━━━━━━━━━━━━╇━━━━━━━━━━━━━━━━━━━━━━━━━━━━━━━━━━━━━━━━━━━━━━━━━━━━━━━━━━━━━━━━━━━━━━━━━━━━━━━━━━━━━━━━━━━━━━━━━━━━━━━━━━━━━━╇━━━━━━━━━╇━━━━━━━━━━━━━━━━━━━━━━━━━━━━━━━━━━━━━━━━━━━━━━━━━━━━━━━━━━━━━━━━━━━━━━━━━━━━╇━━━━━━━━━━━━━━━━━━━━━━━━━━━━━━━━━━━━━━━━━━━━━━━━━━━━━━━━━━━━━━━━━━━━╇━━━━━━━━━━━━━━━━━━━━╇━━━━━━━━━━━━━━━━━━━━━━━━━━━━━━━━━━━━━━━━━━━━━━━━━━━━━━━━━━━━━━━━━━━━━━━━━━━━━━━━━━━━━━━━━━━━━━━━━━━━━━━━━━━━━━━━━━━━━━━━━━━━━━━━━━━━━━━━━━━━━━━━━━━━━━━━━━━━━━━━━━━━━━━━━━━━━━━━━━━━━━━━━━━━━━━━━━━━━━━━━━━━━━━━━━━━━━━━━━━━━━━━━━━━━━━━━━━━━━━━━━━━━━━━━━━━━━━━━━━━━━━━━━━━━━━━━━━━━━━━━━━━━━━━━━━━━━━━━━━━━━━━━━╇━━━━━━━━━━━╇━━━━━━━━━━━━━╇━━━━━━━━━━━━━━━━━━╇━━━━━━━━━━━━━━━━━━━━━━━━━━╇━━━━━━━━━━━━━━━━━╇━━━━━━━━━━┩\n",
       "│ <span style=\"color: #7f7f7f; text-decoration-color: #7f7f7f\">int32</span>        │ <span style=\"color: #7f7f7f; text-decoration-color: #7f7f7f\">int32</span>             │ <span style=\"color: #7f7f7f; text-decoration-color: #7f7f7f\">binary</span>                                                                                                       │ <span style=\"color: #7f7f7f; text-decoration-color: #7f7f7f\">int32</span>   │ <span style=\"color: #7f7f7f; text-decoration-color: #7f7f7f\">binary</span>                                                                     │ <span style=\"color: #7f7f7f; text-decoration-color: #7f7f7f\">binary</span>                                                             │ <span style=\"color: #7f7f7f; text-decoration-color: #7f7f7f\">string</span>             │ <span style=\"color: #7f7f7f; text-decoration-color: #7f7f7f\">binary</span>                                                                                                                                                                                                                                                                                                           │ <span style=\"color: #7f7f7f; text-decoration-color: #7f7f7f\">int32</span>     │ <span style=\"color: #7f7f7f; text-decoration-color: #7f7f7f\">int32</span>       │ <span style=\"color: #7f7f7f; text-decoration-color: #7f7f7f\">int32</span>            │ <span style=\"color: #7f7f7f; text-decoration-color: #7f7f7f\">int32</span>                    │ <span style=\"color: #7f7f7f; text-decoration-color: #7f7f7f\">int32</span>           │ <span style=\"color: #7f7f7f; text-decoration-color: #7f7f7f\">int32</span>    │\n",
       "├──────────────┼───────────────────┼──────────────────────────────────────────────────────────────────────────────────────────────────────────────┼─────────┼────────────────────────────────────────────────────────────────────────────┼────────────────────────────────────────────────────────────────────┼────────────────────┼──────────────────────────────────────────────────────────────────────────────────────────────────────────────────────────────────────────────────────────────────────────────────────────────────────────────────────────────────────────────────────────────────────────────────────────────────────────────────┼───────────┼─────────────┼──────────────────┼──────────────────────────┼─────────────────┼──────────┤\n",
       "│     <span style=\"color: #008080; text-decoration-color: #008080; font-weight: bold\">10861674</span> │                 <span style=\"color: #008080; text-decoration-color: #008080; font-weight: bold\">0</span> │ <span style=\"color: #008000; text-decoration-color: #008000\">b'\\xed\\xcd\\xc6\\xf2E7\\xe7d\\xc1\\xc3\\x1d\\xe8?N6\\xb4\\xc3\\xc4^\\x9fR8\\xe0N\\xd4\":j\\x97\\xe90\\xa3'</span>                    │     <span style=\"color: #008080; text-decoration-color: #008080; font-weight: bold\">691</span> │ <span style=\"color: #008000; text-decoration-color: #008000\">b'\\xe5w\\xe9\\x074\\xb2\\x9c\\x94\\xe9\\x0b\\x03\\xfc\\x12\\x9e\\xf6\\xaa\\xfe\\x0f*\\xcf'</span> │ <span style=\"color: #008000; text-decoration-color: #008000\">b'\\xbc\\xb4\\xe6+\\xfc\\xbao)\\xe5\\x13;\\xdeaS(\\xa9I&amp;48'</span>                 │ <span style=\"color: #008000; text-decoration-color: #008000\">10000000000000000 </span> │ <span style=\"color: #008000; text-decoration-color: #008000\">b''</span>                                                                                                                                                                                                                                                                                                              │     <span style=\"color: #008080; text-decoration-color: #008080; font-weight: bold\">21000</span> │  <span style=\"color: #008080; text-decoration-color: #008080; font-weight: bold\">-741369856</span> │                <span style=\"color: #008080; text-decoration-color: #008080; font-weight: bold\">0</span> │                     <span style=\"color: #7f7f7f; text-decoration-color: #7f7f7f\">NULL</span> │            <span style=\"color: #7f7f7f; text-decoration-color: #7f7f7f\">NULL</span> │        <span style=\"color: #008080; text-decoration-color: #008080; font-weight: bold\">1</span> │\n",
       "│     <span style=\"color: #008080; text-decoration-color: #008080; font-weight: bold\">10861674</span> │                 <span style=\"color: #008080; text-decoration-color: #008080; font-weight: bold\">1</span> │ <span style=\"color: #008000; text-decoration-color: #008000\">b'\\x01xY\\x03\\x9e\\xfa\\x00\\x01\\xefC/\\xcf\\x98sNj\\xb3\\xf8\\xdf\\x0b \\xc3\\xa9\"\\x9e\\xfe\\xd9\\xf0\\xe6G\\xb9Z'</span>           │   <span style=\"color: #008080; text-decoration-color: #008080; font-weight: bold\">40138</span> │ <span style=\"color: #008000; text-decoration-color: #008000\">b'\\xe6!\\x93\\xbc\\x1c4\\x0e\\xf2 \\\\\\x0b\\xd7\\x16\\x91\\xfa\\xd5\\xe5\\x07\"S'</span>         │ <span style=\"color: #008000; text-decoration-color: #008000\">b'\\x00\\x00\\x00\\x00U:\\x85X)\\x88\\xaa\\x8a\\xd4?\\xb7\\xdd\\xa2Fk\\xc7'</span>     │ <span style=\"color: #008000; text-decoration-color: #008000\">0                 </span> │ <span style=\"color: #008000; text-decoration-color: #008000\">b'\\x00\\x00\\x00\\x1d\\x00\\x00\\x00\\x00\\x00\\x00\\x00\\x00\\x00\\x00\\x00\\x00\\x00\\x00\\x00\\x00\\x00\\x00\\x00\\x00\\x00\\x00\\x00\\x00\\x00\\x00\\x00\\x00\\x00\\x00\\x02Z'</span>                                                                                                                                                                 │     <span style=\"color: #008080; text-decoration-color: #008080; font-weight: bold\">30000</span> │   <span style=\"color: #008080; text-decoration-color: #008080; font-weight: bold\">796814871</span> │                <span style=\"color: #008080; text-decoration-color: #008080; font-weight: bold\">0</span> │                     <span style=\"color: #7f7f7f; text-decoration-color: #7f7f7f\">NULL</span> │            <span style=\"color: #7f7f7f; text-decoration-color: #7f7f7f\">NULL</span> │        <span style=\"color: #008080; text-decoration-color: #008080; font-weight: bold\">1</span> │\n",
       "│     <span style=\"color: #008080; text-decoration-color: #008080; font-weight: bold\">10861674</span> │                 <span style=\"color: #008080; text-decoration-color: #008080; font-weight: bold\">2</span> │ <span style=\"color: #008000; text-decoration-color: #008000\">b'\\x8eH\"\\xfa\\xf7d\\x9e\\x9b}]\\x05\\r\\x18\\xdf\\xf4\\xce\\xce\\xcc\\xa4\\xed\\xe9K\\x85\\xde\\xdaL\\x04\\x08\\xb3\\x15\\x9a\\x99'</span> │   <span style=\"color: #008080; text-decoration-color: #008080; font-weight: bold\">77923</span> │ <span style=\"color: #008000; text-decoration-color: #008000\">b'\\xffIC*\\x1e\\xa8\\xacm\\x12(P\\x99\\xbaBm\\x1f\\x16\\xf2&lt;\\x8d'</span>                   │ <span style=\"color: #008000; text-decoration-color: #008000\">b'\\xe3&lt;\\x8e:\\r\\x14\\xa8\\x1f\\r\\xd7\\xe1t\\x83\\x00\\x89\\xe8/e\\xfc\\x85'</span>   │ <span style=\"color: #008000; text-decoration-color: #008000\">0                 </span> │ <span style=\"color: #008000; text-decoration-color: #008000\">b'\\x03\\x0e\\x10\\r\\x07\\xe8\\x8a\\x0f2\\xce\\xd2\\x7f\\xd1^R^.\\x0f\\xd7*\\xdb\\x00\\x00\\x00\\x00\\x00\\x00\\x00\\x00\\x00\\x00\\x00\\x00\\x00\\x00\\x00\\x00\\x00\\x00\\x00\\x00\\x00\\x00\\x00\\x00\\x00\\x00\\x00\\x00\\x00\\x00\\x00 \\x00\\x00\\x00\\x00\\x00\\x00\\x00\\x00\\x00\\x00\\x00\\x00\\x00\\x00\\x00\\x00\\x00\\x00\\x00\\x00\\x00\\x00\\x00\\x00\\x00\\x00\\x00'</span>+<span style=\"color: #008080; text-decoration-color: #008080; font-weight: bold\">677</span> │    <span style=\"color: #008080; text-decoration-color: #008080; font-weight: bold\">499639</span> │ <span style=\"color: #008080; text-decoration-color: #008080; font-weight: bold\">-2078065747</span> │                <span style=\"color: #008080; text-decoration-color: #008080; font-weight: bold\">0</span> │                     <span style=\"color: #7f7f7f; text-decoration-color: #7f7f7f\">NULL</span> │            <span style=\"color: #7f7f7f; text-decoration-color: #7f7f7f\">NULL</span> │        <span style=\"color: #008080; text-decoration-color: #008080; font-weight: bold\">1</span> │\n",
       "│     <span style=\"color: #008080; text-decoration-color: #008080; font-weight: bold\">10861674</span> │                 <span style=\"color: #008080; text-decoration-color: #008080; font-weight: bold\">3</span> │ <span style=\"color: #008000; text-decoration-color: #008000\">b'\\x8flgqw\\x05F\\xeb\\xd4H\\x9c\\xb5\\xbag\\x9d\\xd1\\x95s&amp;\"{\\xf8\\x12\\x13\\xdc\\x08\\xc1\\x96\\'\\x0b\\x05i'</span>                │       <span style=\"color: #008080; text-decoration-color: #008080; font-weight: bold\">0</span> │ <span style=\"color: #008000; text-decoration-color: #008000\">b'I\\x8f\\xc48\\x13\\xf7d\\x13\\xd9\\xc0j\\xdd\\xc1\\xa9{\\xe6.0\\x13\\x08'</span>             │ <span style=\"color: #008000; text-decoration-color: #008000\">b'z4&lt;\\xce\\x0f\\xbe\\x8d3\\xe2\\\\\\xd8vYP\\xcb\\\\g\\xc9?6'</span>                  │ <span style=\"color: #008000; text-decoration-color: #008000\">292456800000000000</span> │ <span style=\"color: #008000; text-decoration-color: #008000\">b''</span>                                                                                                                                                                                                                                                                                                              │     <span style=\"color: #008080; text-decoration-color: #008080; font-weight: bold\">21000</span> │  <span style=\"color: #008080; text-decoration-color: #008080; font-weight: bold\">-357645313</span> │                <span style=\"color: #008080; text-decoration-color: #008080; font-weight: bold\">0</span> │                     <span style=\"color: #7f7f7f; text-decoration-color: #7f7f7f\">NULL</span> │            <span style=\"color: #7f7f7f; text-decoration-color: #7f7f7f\">NULL</span> │        <span style=\"color: #008080; text-decoration-color: #008080; font-weight: bold\">1</span> │\n",
       "│     <span style=\"color: #008080; text-decoration-color: #008080; font-weight: bold\">10861674</span> │                 <span style=\"color: #008080; text-decoration-color: #008080; font-weight: bold\">4</span> │ <span style=\"color: #008000; text-decoration-color: #008000\">b'\\xed*\\x95.Kk`:M\\xfe\\x01\\x16\\xf4:a\\xdc\\xa1\\xc6\\xc2\\x95\\x16iv\\xd5%\\x03~R \\xdf\\xc0\"'</span>                          │ <span style=\"color: #008080; text-decoration-color: #008080; font-weight: bold\">5182873</span> │ <span style=\"color: #008000; text-decoration-color: #008000\">b'?\\\\\\xe5\\xfb\\xfe&gt;\\x9a\\xf3\\x97\\x1d\\xd83\\xd2k\\xa9\\xb5\\xc96\\xf0\\xbe'</span>         │ <span style=\"color: #008000; text-decoration-color: #008000\">b'\\x87b\\xdb\\x10k,*\\x0b\\xcc\\xb3\\xa8\\r\\x1e\\xd4\\x12sU&amp;\\x16\\xe8'</span>       │ <span style=\"color: #008000; text-decoration-color: #008000\">0                 </span> │ <span style=\"color: #008000; text-decoration-color: #008000\">b'\\xa9\\x05\\x9c\\xbb\\x00\\x00\\x00\\x00\\x00\\x00\\x00\\x00\\x00\\x00\\x00\\x00\\x1e\\xa0\\xc8\\xaf\\xba\\xe8\\x12n\\xab9\\xcdx\\x85\\xfb0I,\\xf40\\xd3\\x00\\x00\\x00\\x00\\x00\\x00\\x00\\x00\\x00\\x00\\x00\\x00\\x00\\x00\\x00\\x00\\x00\\x00\\x00\\x00\\x00\\x00\\x89\\x98_\\x92\\xa4\\x81#\\\\\\x00\\x00'</span>                                                           │    <span style=\"color: #008080; text-decoration-color: #008080; font-weight: bold\">207128</span> │  <span style=\"color: #008080; text-decoration-color: #008080; font-weight: bold\">-993005056</span> │                <span style=\"color: #008080; text-decoration-color: #008080; font-weight: bold\">0</span> │                     <span style=\"color: #7f7f7f; text-decoration-color: #7f7f7f\">NULL</span> │            <span style=\"color: #7f7f7f; text-decoration-color: #7f7f7f\">NULL</span> │        <span style=\"color: #008080; text-decoration-color: #008080; font-weight: bold\">1</span> │\n",
       "│     <span style=\"color: #008080; text-decoration-color: #008080; font-weight: bold\">10861674</span> │                 <span style=\"color: #008080; text-decoration-color: #008080; font-weight: bold\">5</span> │ <span style=\"color: #008000; text-decoration-color: #008000\">b'\\xfb\\xd4p\\x98\\x8c\\x1f\\xb5\\x9c\\xb02~C\\x9f\\x81\\x14\\x98f\\x95?)\\x07\\x0f\\xdd\\xb8v\\xce{(\\x9f\\x9b\\xae\\xa9'</span>        │ <span style=\"color: #008080; text-decoration-color: #008080; font-weight: bold\">2864427</span> │ <span style=\"color: #008000; text-decoration-color: #008000\">b'\\xd5Q#J\\xe4!\\xe3\\xbc\\xba\\x99\\xa0\\xdams`t\\xf2!\\x92\\xff'</span>                   │ <span style=\"color: #008000; text-decoration-color: #008000\">b'\\x8c\\xe9\\x13}92j\\xd0\\xcdd\\x91\\xfb\\\\\\xc0\\xcb\\xa0\\xe0\\x89\\xb6\\xa9'</span> │ <span style=\"color: #008000; text-decoration-color: #008000\">0                 </span> │ <span style=\"color: #008000; text-decoration-color: #008000\">b'\\xa9\\x05\\x9c\\xbb\\x00\\x00\\x00\\x00\\x00\\x00\\x00\\x00\\x00\\x00\\x00\\x00y\\xa5\\xe0\\x03\\xa4fe\\xc7\\xc7\\xea\\x0cQ\\xcd8Km\\xf5K5~\\x00\\x00\\x00\\x00\\x00\\x00\\x00\\x00\\x00\\x00\\x00\\x00\\x00\\x00\\x00\\x00\\x00\\x00\\x00\\x00\\x00\\x00\\x01y\\x9b\\x01D\\xd0\\x1d\\xc7\\x80\\x00'</span>                                                                  │    <span style=\"color: #008080; text-decoration-color: #008080; font-weight: bold\">207128</span> │  <span style=\"color: #008080; text-decoration-color: #008080; font-weight: bold\">-993005056</span> │                <span style=\"color: #008080; text-decoration-color: #008080; font-weight: bold\">0</span> │                     <span style=\"color: #7f7f7f; text-decoration-color: #7f7f7f\">NULL</span> │            <span style=\"color: #7f7f7f; text-decoration-color: #7f7f7f\">NULL</span> │        <span style=\"color: #008080; text-decoration-color: #008080; font-weight: bold\">1</span> │\n",
       "│     <span style=\"color: #008080; text-decoration-color: #008080; font-weight: bold\">10861674</span> │                 <span style=\"color: #008080; text-decoration-color: #008080; font-weight: bold\">6</span> │ <span style=\"color: #008000; text-decoration-color: #008000\">b'\\xd0\\xeb\\xad\\xaf\\x19\\x08\\xe9Dt^D\\xfe9\\x8f\\\\\\r;&lt;\\xc2\\xe6\\xb4\\xf6\\xf6\\xd0\\x02&gt;!}\\x18o8\\x85'</span>                  │ <span style=\"color: #008080; text-decoration-color: #008080; font-weight: bold\">2774861</span> │ <span style=\"color: #008000; text-decoration-color: #008000\">b'VB\\x866 \\x92\\xd8\\xe7\\x93o\\x05IW\\x1a\\x80; :\\xac\\xed'</span>                      │ <span style=\"color: #008000; text-decoration-color: #008000\">b'\\x00\\x00\\x00\\x00\\x00\\x08]G\\x80\\xb71\\x19\\xb6D\\xae^\\xcd\"\\xb3v'</span>     │ <span style=\"color: #008000; text-decoration-color: #008000\">0                 </span> │ <span style=\"color: #008000; text-decoration-color: #008000\">b'\\xa9\\x05\\x9c\\xbb\\x00\\x00\\x00\\x00\\x00\\x00\\x00\\x00\\x00\\x00\\x00\\x00\\x9b\\xc2\\xf2#\\x02l%,\\x8e\\xf5\\xf7\\xf3?\\x00\\xf4\\xbe\\xe2\\x144\\xb8\\x00\\x00\\x00\\x00\\x00\\x00\\x00\\x00\\x00\\x00\\x00\\x00\\x00\\x00\\x00\\x00\\x00\\x00\\x00\\x00\\x00\\x00\\x00\\x8dX\\xaa\\x97\\x82:\\x02\\x00\\x00'</span>                                                      │    <span style=\"color: #008080; text-decoration-color: #008080; font-weight: bold\">207128</span> │  <span style=\"color: #008080; text-decoration-color: #008080; font-weight: bold\">-993005056</span> │                <span style=\"color: #008080; text-decoration-color: #008080; font-weight: bold\">0</span> │                     <span style=\"color: #7f7f7f; text-decoration-color: #7f7f7f\">NULL</span> │            <span style=\"color: #7f7f7f; text-decoration-color: #7f7f7f\">NULL</span> │        <span style=\"color: #008080; text-decoration-color: #008080; font-weight: bold\">1</span> │\n",
       "│     <span style=\"color: #008080; text-decoration-color: #008080; font-weight: bold\">10861674</span> │                 <span style=\"color: #008080; text-decoration-color: #008080; font-weight: bold\">7</span> │ <span style=\"color: #008000; text-decoration-color: #008000\">b'\\xc6\\xa5\\xc9\\xa1\\x98\\xf0\\xa0\\x0f\\xad\\x1c%(!\\x01\\xd2\\xf96\\x10NHu\\n\\xcb\\x0b:\\xb1c\\xba2`\\r\\x90'</span>               │   <span style=\"color: #008080; text-decoration-color: #008080; font-weight: bold\">23885</span> │ <span style=\"color: #008000; text-decoration-color: #008000\">b'z4&lt;\\xce\\x0f\\xbe\\x8d3\\xe2\\\\\\xd8vYP\\xcb\\\\g\\xc9?6'</span>                          │ <span style=\"color: #008000; text-decoration-color: #008000\">b'\\xdb\\xe4K\\x12\\x87\\xa9\\xd4\\x8b\\x8aJ\\xaa\\t\\xaft\\x0f2i\\x16\\xab\\xfa'</span> │ <span style=\"color: #008000; text-decoration-color: #008000\">68461500000000000 </span> │ <span style=\"color: #008000; text-decoration-color: #008000\">b''</span>                                                                                                                                                                                                                                                                                                              │     <span style=\"color: #008080; text-decoration-color: #008080; font-weight: bold\">90000</span> │ <span style=\"color: #008080; text-decoration-color: #008080; font-weight: bold\">-1993005056</span> │                <span style=\"color: #008080; text-decoration-color: #008080; font-weight: bold\">0</span> │                     <span style=\"color: #7f7f7f; text-decoration-color: #7f7f7f\">NULL</span> │            <span style=\"color: #7f7f7f; text-decoration-color: #7f7f7f\">NULL</span> │        <span style=\"color: #008080; text-decoration-color: #008080; font-weight: bold\">1</span> │\n",
       "│     <span style=\"color: #008080; text-decoration-color: #008080; font-weight: bold\">10861674</span> │                 <span style=\"color: #008080; text-decoration-color: #008080; font-weight: bold\">8</span> │ <span style=\"color: #008000; text-decoration-color: #008000\">b'\\xba\\x90\\xa4\\xf7\\xb8\\xe1\\x88?\\x8d\\xba7aS\\x0f\\xcc\\xa3\\xde\\x8b\\x19\\x1e:\\xc12\\xe6\\xd4\\xd5\\xabgg\\xd6\\xfc\\xc6'</span>  │    <span style=\"color: #008080; text-decoration-color: #008080; font-weight: bold\">3653</span> │ <span style=\"color: #008000; text-decoration-color: #008000\">b\"\\xe8N\\xb5\\xf8\\xacrZ.\\xfd\\x90\\x18\\xfe\\x9b\\xfbP\\xb3J'\\xe3\\xed\"</span>             │ <span style=\"color: #008000; text-decoration-color: #008000\">b'L\\xb3\\x84\\xe6\\xf3\\xf7Z\\x91\\x8c\\xdc,\\xb8u&lt;^\\x9b\\xd5\\xd5\\xdf\\xae'</span>  │ <span style=\"color: #008000; text-decoration-color: #008000\">0                 </span> │ <span style=\"color: #008000; text-decoration-color: #008000\">b'D\\x1a&gt;p\\x00\\x00\\x00\\x00\\x00\\x00\\x00\\x00\\x00\\x00\\x00\\x00\\x00\\x00\\x00\\x00\\x00\\x00\\x00\\x00\\x00\\x00\\x00\\x00\\x00\\x00\\x00\\x00\\x00\\x00\\x00\\x06\\x00\\x00\\x00\\x00\\x00\\x00\\x00\\x00\\x00\\x00\\x00\\x00\\x00\\x00\\x00\\x00\\x00\\x00\\x00\\x00\\x00\\x00\\x00\\xd8\\xd7&amp;\\xb7\\x17z\\x87\\xa1 '</span>                                                │    <span style=\"color: #008080; text-decoration-color: #008080; font-weight: bold\">194218</span> │  <span style=\"color: #008080; text-decoration-color: #008080; font-weight: bold\">-698037760</span> │                <span style=\"color: #008080; text-decoration-color: #008080; font-weight: bold\">0</span> │                     <span style=\"color: #7f7f7f; text-decoration-color: #7f7f7f\">NULL</span> │            <span style=\"color: #7f7f7f; text-decoration-color: #7f7f7f\">NULL</span> │        <span style=\"color: #008080; text-decoration-color: #008080; font-weight: bold\">1</span> │\n",
       "│     <span style=\"color: #008080; text-decoration-color: #008080; font-weight: bold\">10861674</span> │                 <span style=\"color: #008080; text-decoration-color: #008080; font-weight: bold\">9</span> │ <span style=\"color: #008000; text-decoration-color: #008000\">b'K7\\xd2\\xf3C`\\x84W\\xca3\"\\xac\\xcd\\xab(\\x11\\xc7\\x07\\xac\\xf3\\xeb\\x07\\xa4\\r\\xd8\\xd9Vp\\x93\\xea[\\x82'</span>             │       <span style=\"color: #008080; text-decoration-color: #008080; font-weight: bold\">0</span> │ <span style=\"color: #008000; text-decoration-color: #008000\">b'Ae&lt;}a`\\x9d\\x85o)5^@O1\\x0e\\xc4\\x14,\\xfb'</span>                                  │ <span style=\"color: #7f7f7f; text-decoration-color: #7f7f7f\">NULL</span>                                                               │ <span style=\"color: #008000; text-decoration-color: #008000\">0                 </span> │ <span style=\"color: #008000; text-decoration-color: #008000\">b'`\\x80`@Rk\\x03;.&lt;\\x9f\\xd0\\x80&lt;\\xe8\\x00\\x00\\x00`\\x00U4\\x80\\x15b\\x00\\x00!W`\\x00\\x80\\xfd[P`@Qb\\x004\\x138\\x03\\x80b\\x004\\x13\\x839\\x81\\x01`@\\x81\\x90Rb\\x00\\x00D\\x91b\\x00\\x01qV[B\\x81\\x10\\x15b\\x00\\x00pW`@'</span>+<span style=\"color: #008080; text-decoration-color: #008080; font-weight: bold\">13347</span>                                                                                                      │   <span style=\"color: #008080; text-decoration-color: #008080; font-weight: bold\">2853638</span> │   <span style=\"color: #008080; text-decoration-color: #008080; font-weight: bold\">891896832</span> │                <span style=\"color: #008080; text-decoration-color: #008080; font-weight: bold\">0</span> │                     <span style=\"color: #7f7f7f; text-decoration-color: #7f7f7f\">NULL</span> │            <span style=\"color: #7f7f7f; text-decoration-color: #7f7f7f\">NULL</span> │        <span style=\"color: #008080; text-decoration-color: #008080; font-weight: bold\">1</span> │\n",
       "│            <span style=\"color: #7f7f7f; text-decoration-color: #7f7f7f\">…</span> │                 <span style=\"color: #7f7f7f; text-decoration-color: #7f7f7f\">…</span> │ <span style=\"color: #7f7f7f; text-decoration-color: #7f7f7f\">…</span>                                                                                                            │       <span style=\"color: #7f7f7f; text-decoration-color: #7f7f7f\">…</span> │ <span style=\"color: #7f7f7f; text-decoration-color: #7f7f7f\">…</span>                                                                          │ <span style=\"color: #7f7f7f; text-decoration-color: #7f7f7f\">…</span>                                                                  │ <span style=\"color: #7f7f7f; text-decoration-color: #7f7f7f\">…</span>                  │ <span style=\"color: #7f7f7f; text-decoration-color: #7f7f7f\">…</span>                                                                                                                                                                                                                                                                                                                │         <span style=\"color: #7f7f7f; text-decoration-color: #7f7f7f\">…</span> │           <span style=\"color: #7f7f7f; text-decoration-color: #7f7f7f\">…</span> │                <span style=\"color: #7f7f7f; text-decoration-color: #7f7f7f\">…</span> │                        <span style=\"color: #7f7f7f; text-decoration-color: #7f7f7f\">…</span> │               <span style=\"color: #7f7f7f; text-decoration-color: #7f7f7f\">…</span> │        <span style=\"color: #7f7f7f; text-decoration-color: #7f7f7f\">…</span> │\n",
       "└──────────────┴───────────────────┴──────────────────────────────────────────────────────────────────────────────────────────────────────────────┴─────────┴────────────────────────────────────────────────────────────────────────────┴────────────────────────────────────────────────────────────────────┴────────────────────┴──────────────────────────────────────────────────────────────────────────────────────────────────────────────────────────────────────────────────────────────────────────────────────────────────────────────────────────────────────────────────────────────────────────────────────────────────────────────────┴───────────┴─────────────┴──────────────────┴──────────────────────────┴─────────────────┴──────────┘\n",
       "</pre>\n"
      ],
      "text/plain": [
       "┏━━━━━━━━━━━━━━┳━━━━━━━━━━━━━━━━━━━┳━━━━━━━━━━━━━━━━━━━━━━━━━━━━━━━━━━━━━━━━━━━━━━━━━━━━━━━━━━━━━━━━━━━━━━━━━━━━━━━━━━━━━━━━━━━━━━━━━━━━━━━━━━━━━━┳━━━━━━━━━┳━━━━━━━━━━━━━━━━━━━━━━━━━━━━━━━━━━━━━━━━━━━━━━━━━━━━━━━━━━━━━━━━━━━━━━━━━━━━┳━━━━━━━━━━━━━━━━━━━━━━━━━━━━━━━━━━━━━━━━━━━━━━━━━━━━━━━━━━━━━━━━━━━━┳━━━━━━━━━━━━━━━━━━━━┳━━━━━━━━━━━━━━━━━━━━━━━━━━━━━━━━━━━━━━━━━━━━━━━━━━━━━━━━━━━━━━━━━━━━━━━━━━━━━━━━━━━━━━━━━━━━━━━━━━━━━━━━━━━━━━━━━━━━━━━━━━━━━━━━━━━━━━━━━━━━━━━━━━━━━━━━━━━━━━━━━━━━━━━━━━━━━━━━━━━━━━━━━━━━━━━━━━━━━━━━━━━━━━━━━━━━━━━━━━━━━━━━━━━━━━━━━━━━━━━━━━━━━━━━━━━━━━━━━━━━━━━━━━━━━━━━━━━━━━━━━━━━━━━━━━━━━━━━━━━━━━━━━━┳━━━━━━━━━━━┳━━━━━━━━━━━━━┳━━━━━━━━━━━━━━━━━━┳━━━━━━━━━━━━━━━━━━━━━━━━━━┳━━━━━━━━━━━━━━━━━┳━━━━━━━━━━┓\n",
       "┃\u001b[1m \u001b[0m\u001b[1mblock_number\u001b[0m\u001b[1m \u001b[0m┃\u001b[1m \u001b[0m\u001b[1mtransaction_index\u001b[0m\u001b[1m \u001b[0m┃\u001b[1m \u001b[0m\u001b[1mtransaction_hash\u001b[0m\u001b[1m                                                                                            \u001b[0m\u001b[1m \u001b[0m┃\u001b[1m \u001b[0m\u001b[1mnonce\u001b[0m\u001b[1m  \u001b[0m\u001b[1m \u001b[0m┃\u001b[1m \u001b[0m\u001b[1mfrom_address\u001b[0m\u001b[1m                                                              \u001b[0m\u001b[1m \u001b[0m┃\u001b[1m \u001b[0m\u001b[1mto_address\u001b[0m\u001b[1m                                                        \u001b[0m\u001b[1m \u001b[0m┃\u001b[1m \u001b[0m\u001b[1mvalue\u001b[0m\u001b[1m             \u001b[0m\u001b[1m \u001b[0m┃\u001b[1m \u001b[0m\u001b[1minput\u001b[0m\u001b[1m                                                                                                                                                                                                                                                                                                           \u001b[0m\u001b[1m \u001b[0m┃\u001b[1m \u001b[0m\u001b[1mgas_limit\u001b[0m\u001b[1m \u001b[0m┃\u001b[1m \u001b[0m\u001b[1mgas_price\u001b[0m\u001b[1m  \u001b[0m\u001b[1m \u001b[0m┃\u001b[1m \u001b[0m\u001b[1mtransaction_type\u001b[0m\u001b[1m \u001b[0m┃\u001b[1m \u001b[0m\u001b[1mmax_priority_fee_per_gas\u001b[0m\u001b[1m \u001b[0m┃\u001b[1m \u001b[0m\u001b[1mmax_fee_per_gas\u001b[0m\u001b[1m \u001b[0m┃\u001b[1m \u001b[0m\u001b[1mchain_id\u001b[0m\u001b[1m \u001b[0m┃\n",
       "┡━━━━━━━━━━━━━━╇━━━━━━━━━━━━━━━━━━━╇━━━━━━━━━━━━━━━━━━━━━━━━━━━━━━━━━━━━━━━━━━━━━━━━━━━━━━━━━━━━━━━━━━━━━━━━━━━━━━━━━━━━━━━━━━━━━━━━━━━━━━━━━━━━━━╇━━━━━━━━━╇━━━━━━━━━━━━━━━━━━━━━━━━━━━━━━━━━━━━━━━━━━━━━━━━━━━━━━━━━━━━━━━━━━━━━━━━━━━━╇━━━━━━━━━━━━━━━━━━━━━━━━━━━━━━━━━━━━━━━━━━━━━━━━━━━━━━━━━━━━━━━━━━━━╇━━━━━━━━━━━━━━━━━━━━╇━━━━━━━━━━━━━━━━━━━━━━━━━━━━━━━━━━━━━━━━━━━━━━━━━━━━━━━━━━━━━━━━━━━━━━━━━━━━━━━━━━━━━━━━━━━━━━━━━━━━━━━━━━━━━━━━━━━━━━━━━━━━━━━━━━━━━━━━━━━━━━━━━━━━━━━━━━━━━━━━━━━━━━━━━━━━━━━━━━━━━━━━━━━━━━━━━━━━━━━━━━━━━━━━━━━━━━━━━━━━━━━━━━━━━━━━━━━━━━━━━━━━━━━━━━━━━━━━━━━━━━━━━━━━━━━━━━━━━━━━━━━━━━━━━━━━━━━━━━━━━━━━━━╇━━━━━━━━━━━╇━━━━━━━━━━━━━╇━━━━━━━━━━━━━━━━━━╇━━━━━━━━━━━━━━━━━━━━━━━━━━╇━━━━━━━━━━━━━━━━━╇━━━━━━━━━━┩\n",
       "│ \u001b[2mint32\u001b[0m        │ \u001b[2mint32\u001b[0m             │ \u001b[2mbinary\u001b[0m                                                                                                       │ \u001b[2mint32\u001b[0m   │ \u001b[2mbinary\u001b[0m                                                                     │ \u001b[2mbinary\u001b[0m                                                             │ \u001b[2mstring\u001b[0m             │ \u001b[2mbinary\u001b[0m                                                                                                                                                                                                                                                                                                           │ \u001b[2mint32\u001b[0m     │ \u001b[2mint32\u001b[0m       │ \u001b[2mint32\u001b[0m            │ \u001b[2mint32\u001b[0m                    │ \u001b[2mint32\u001b[0m           │ \u001b[2mint32\u001b[0m    │\n",
       "├──────────────┼───────────────────┼──────────────────────────────────────────────────────────────────────────────────────────────────────────────┼─────────┼────────────────────────────────────────────────────────────────────────────┼────────────────────────────────────────────────────────────────────┼────────────────────┼──────────────────────────────────────────────────────────────────────────────────────────────────────────────────────────────────────────────────────────────────────────────────────────────────────────────────────────────────────────────────────────────────────────────────────────────────────────────────┼───────────┼─────────────┼──────────────────┼──────────────────────────┼─────────────────┼──────────┤\n",
       "│     \u001b[1;36m10861674\u001b[0m │                 \u001b[1;36m0\u001b[0m │ \u001b[32mb'\\xed\\xcd\\xc6\\xf2E7\\xe7d\\xc1\\xc3\\x1d\\xe8?N6\\xb4\\xc3\\xc4^\\x9fR8\\xe0N\\xd4\":j\\x97\\xe90\\xa3'\u001b[0m                    │     \u001b[1;36m691\u001b[0m │ \u001b[32mb'\\xe5w\\xe9\\x074\\xb2\\x9c\\x94\\xe9\\x0b\\x03\\xfc\\x12\\x9e\\xf6\\xaa\\xfe\\x0f*\\xcf'\u001b[0m │ \u001b[32mb'\\xbc\\xb4\\xe6+\\xfc\\xbao\u001b[0m\u001b[32m)\u001b[0m\u001b[32m\\xe5\\x13;\\xdeaS\u001b[0m\u001b[32m(\u001b[0m\u001b[32m\\xa9I&48'\u001b[0m                 │ \u001b[32m10000000000000000 \u001b[0m │ \u001b[32mb''\u001b[0m                                                                                                                                                                                                                                                                                                              │     \u001b[1;36m21000\u001b[0m │  \u001b[1;36m-741369856\u001b[0m │                \u001b[1;36m0\u001b[0m │                     \u001b[2mNULL\u001b[0m │            \u001b[2mNULL\u001b[0m │        \u001b[1;36m1\u001b[0m │\n",
       "│     \u001b[1;36m10861674\u001b[0m │                 \u001b[1;36m1\u001b[0m │ \u001b[32mb'\\x01xY\\x03\\x9e\\xfa\\x00\\x01\\xefC/\\xcf\\x98sNj\\xb3\\xf8\\xdf\\x0b \\xc3\\xa9\"\\x9e\\xfe\\xd9\\xf0\\xe6G\\xb9Z'\u001b[0m           │   \u001b[1;36m40138\u001b[0m │ \u001b[32mb'\\xe6!\\x93\\xbc\\x1c4\\x0e\\xf2 \\\\\\x0b\\xd7\\x16\\x91\\xfa\\xd5\\xe5\\x07\"S'\u001b[0m         │ \u001b[32mb'\\x00\\x00\\x00\\x00U:\\x85X\u001b[0m\u001b[32m)\u001b[0m\u001b[32m\\x88\\xaa\\x8a\\xd4?\\xb7\\xdd\\xa2Fk\\xc7'\u001b[0m     │ \u001b[32m0                 \u001b[0m │ \u001b[32mb'\\x00\\x00\\x00\\x1d\\x00\\x00\\x00\\x00\\x00\\x00\\x00\\x00\\x00\\x00\\x00\\x00\\x00\\x00\\x00\\x00\\x00\\x00\\x00\\x00\\x00\\x00\\x00\\x00\\x00\\x00\\x00\\x00\\x00\\x00\\x02Z'\u001b[0m                                                                                                                                                                 │     \u001b[1;36m30000\u001b[0m │   \u001b[1;36m796814871\u001b[0m │                \u001b[1;36m0\u001b[0m │                     \u001b[2mNULL\u001b[0m │            \u001b[2mNULL\u001b[0m │        \u001b[1;36m1\u001b[0m │\n",
       "│     \u001b[1;36m10861674\u001b[0m │                 \u001b[1;36m2\u001b[0m │ \u001b[32mb'\\x8eH\"\\xfa\\xf7d\\x9e\\x9b\u001b[0m\u001b[32m}\u001b[0m\u001b[32m]\u001b[0m\u001b[32m\\x05\\r\\x18\\xdf\\xf4\\xce\\xce\\xcc\\xa4\\xed\\xe9K\\x85\\xde\\xdaL\\x04\\x08\\xb3\\x15\\x9a\\x99'\u001b[0m │   \u001b[1;36m77923\u001b[0m │ \u001b[32mb'\\xffIC*\\x1e\\xa8\\xacm\\x12\u001b[0m\u001b[32m(\u001b[0m\u001b[32mP\\x99\\xbaBm\\x1f\\x16\\xf2<\\x8d'\u001b[0m                   │ \u001b[32mb'\\xe3<\\x8e:\\r\\x14\\xa8\\x1f\\r\\xd7\\xe1t\\x83\\x00\\x89\\xe8/e\\xfc\\x85'\u001b[0m   │ \u001b[32m0                 \u001b[0m │ \u001b[32mb'\\x03\\x0e\\x10\\r\\x07\\xe8\\x8a\\x0f2\\xce\\xd2\\x7f\\xd1^R^.\\x0f\\xd7*\\xdb\\x00\\x00\\x00\\x00\\x00\\x00\\x00\\x00\\x00\\x00\\x00\\x00\\x00\\x00\\x00\\x00\\x00\\x00\\x00\\x00\\x00\\x00\\x00\\x00\\x00\\x00\\x00\\x00\\x00\\x00\\x00 \\x00\\x00\\x00\\x00\\x00\\x00\\x00\\x00\\x00\\x00\\x00\\x00\\x00\\x00\\x00\\x00\\x00\\x00\\x00\\x00\\x00\\x00\\x00\\x00\\x00\\x00\\x00'\u001b[0m+\u001b[1;36m677\u001b[0m │    \u001b[1;36m499639\u001b[0m │ \u001b[1;36m-2078065747\u001b[0m │                \u001b[1;36m0\u001b[0m │                     \u001b[2mNULL\u001b[0m │            \u001b[2mNULL\u001b[0m │        \u001b[1;36m1\u001b[0m │\n",
       "│     \u001b[1;36m10861674\u001b[0m │                 \u001b[1;36m3\u001b[0m │ \u001b[32mb'\\x8flgqw\\x05F\\xeb\\xd4H\\x9c\\xb5\\xbag\\x9d\\xd1\\x95s&\"\u001b[0m\u001b[32m{\u001b[0m\u001b[32m\\xf8\\x12\\x13\\xdc\\x08\\xc1\\x96\\'\\x0b\\x05i'\u001b[0m                │       \u001b[1;36m0\u001b[0m │ \u001b[32mb'I\\x8f\\xc48\\x13\\xf7d\\x13\\xd9\\xc0j\\xdd\\xc1\\xa9\u001b[0m\u001b[32m{\u001b[0m\u001b[32m\\xe6.0\\x13\\x08'\u001b[0m             │ \u001b[32mb'z4<\\xce\\x0f\\xbe\\x8d3\\xe2\\\\\\xd8vYP\\xcb\\\\g\\xc9?6'\u001b[0m                  │ \u001b[32m292456800000000000\u001b[0m │ \u001b[32mb''\u001b[0m                                                                                                                                                                                                                                                                                                              │     \u001b[1;36m21000\u001b[0m │  \u001b[1;36m-357645313\u001b[0m │                \u001b[1;36m0\u001b[0m │                     \u001b[2mNULL\u001b[0m │            \u001b[2mNULL\u001b[0m │        \u001b[1;36m1\u001b[0m │\n",
       "│     \u001b[1;36m10861674\u001b[0m │                 \u001b[1;36m4\u001b[0m │ \u001b[32mb'\\xed*\\x95.Kk`:M\\xfe\\x01\\x16\\xf4:a\\xdc\\xa1\\xc6\\xc2\\x95\\x16iv\\xd5%\\x03~R \\xdf\\xc0\"'\u001b[0m                          │ \u001b[1;36m5182873\u001b[0m │ \u001b[32mb'?\\\\\\xe5\\xfb\\xfe>\\x9a\\xf3\\x97\\x1d\\xd83\\xd2k\\xa9\\xb5\\xc96\\xf0\\xbe'\u001b[0m         │ \u001b[32mb'\\x87b\\xdb\\x10k,*\\x0b\\xcc\\xb3\\xa8\\r\\x1e\\xd4\\x12sU&\\x16\\xe8'\u001b[0m       │ \u001b[32m0                 \u001b[0m │ \u001b[32mb'\\xa9\\x05\\x9c\\xbb\\x00\\x00\\x00\\x00\\x00\\x00\\x00\\x00\\x00\\x00\\x00\\x00\\x1e\\xa0\\xc8\\xaf\\xba\\xe8\\x12n\\xab9\\xcdx\\x85\\xfb0I,\\xf40\\xd3\\x00\\x00\\x00\\x00\\x00\\x00\\x00\\x00\\x00\\x00\\x00\\x00\\x00\\x00\\x00\\x00\\x00\\x00\\x00\\x00\\x00\\x00\\x89\\x98_\\x92\\xa4\\x81#\\\\\\x00\\x00'\u001b[0m                                                           │    \u001b[1;36m207128\u001b[0m │  \u001b[1;36m-993005056\u001b[0m │                \u001b[1;36m0\u001b[0m │                     \u001b[2mNULL\u001b[0m │            \u001b[2mNULL\u001b[0m │        \u001b[1;36m1\u001b[0m │\n",
       "│     \u001b[1;36m10861674\u001b[0m │                 \u001b[1;36m5\u001b[0m │ \u001b[32mb'\\xfb\\xd4p\\x98\\x8c\\x1f\\xb5\\x9c\\xb02~C\\x9f\\x81\\x14\\x98f\\x95?\u001b[0m\u001b[32m)\u001b[0m\u001b[32m\\x07\\x0f\\xdd\\xb8v\\xce\u001b[0m\u001b[32m{\u001b[0m\u001b[32m(\u001b[0m\u001b[32m\\x9f\\x9b\\xae\\xa9'\u001b[0m        │ \u001b[1;36m2864427\u001b[0m │ \u001b[32mb'\\xd5Q#J\\xe4!\\xe3\\xbc\\xba\\x99\\xa0\\xdams`t\\xf2!\\x92\\xff'\u001b[0m                   │ \u001b[32mb'\\x8c\\xe9\\x13\u001b[0m\u001b[32m}\u001b[0m\u001b[32m92j\\xd0\\xcdd\\x91\\xfb\\\\\\xc0\\xcb\\xa0\\xe0\\x89\\xb6\\xa9'\u001b[0m │ \u001b[32m0                 \u001b[0m │ \u001b[32mb'\\xa9\\x05\\x9c\\xbb\\x00\\x00\\x00\\x00\\x00\\x00\\x00\\x00\\x00\\x00\\x00\\x00y\\xa5\\xe0\\x03\\xa4fe\\xc7\\xc7\\xea\\x0cQ\\xcd8Km\\xf5K5~\\x00\\x00\\x00\\x00\\x00\\x00\\x00\\x00\\x00\\x00\\x00\\x00\\x00\\x00\\x00\\x00\\x00\\x00\\x00\\x00\\x00\\x00\\x01y\\x9b\\x01D\\xd0\\x1d\\xc7\\x80\\x00'\u001b[0m                                                                  │    \u001b[1;36m207128\u001b[0m │  \u001b[1;36m-993005056\u001b[0m │                \u001b[1;36m0\u001b[0m │                     \u001b[2mNULL\u001b[0m │            \u001b[2mNULL\u001b[0m │        \u001b[1;36m1\u001b[0m │\n",
       "│     \u001b[1;36m10861674\u001b[0m │                 \u001b[1;36m6\u001b[0m │ \u001b[32mb'\\xd0\\xeb\\xad\\xaf\\x19\\x08\\xe9Dt^D\\xfe9\\x8f\\\\\\r;\u001b[0m\u001b[32m<\u001b[0m\u001b[32m\\xc2\\xe6\\xb4\\xf6\\xf6\\xd0\\x02\u001b[0m\u001b[32m>\u001b[0m\u001b[32m!\u001b[0m\u001b[32m}\u001b[0m\u001b[32m\\x18o8\\x85'\u001b[0m                  │ \u001b[1;36m2774861\u001b[0m │ \u001b[32mb'VB\\x866 \\x92\\xd8\\xe7\\x93o\\x05IW\\x1a\\x80; :\\xac\\xed'\u001b[0m                      │ \u001b[32mb'\\x00\\x00\\x00\\x00\\x00\\x08\u001b[0m\u001b[32m]\u001b[0m\u001b[32mG\\x80\\xb71\\x19\\xb6D\\xae^\\xcd\"\\xb3v'\u001b[0m     │ \u001b[32m0                 \u001b[0m │ \u001b[32mb'\\xa9\\x05\\x9c\\xbb\\x00\\x00\\x00\\x00\\x00\\x00\\x00\\x00\\x00\\x00\\x00\\x00\\x9b\\xc2\\xf2#\\x02l%,\\x8e\\xf5\\xf7\\xf3?\\x00\\xf4\\xbe\\xe2\\x144\\xb8\\x00\\x00\\x00\\x00\\x00\\x00\\x00\\x00\\x00\\x00\\x00\\x00\\x00\\x00\\x00\\x00\\x00\\x00\\x00\\x00\\x00\\x00\\x00\\x8dX\\xaa\\x97\\x82:\\x02\\x00\\x00'\u001b[0m                                                      │    \u001b[1;36m207128\u001b[0m │  \u001b[1;36m-993005056\u001b[0m │                \u001b[1;36m0\u001b[0m │                     \u001b[2mNULL\u001b[0m │            \u001b[2mNULL\u001b[0m │        \u001b[1;36m1\u001b[0m │\n",
       "│     \u001b[1;36m10861674\u001b[0m │                 \u001b[1;36m7\u001b[0m │ \u001b[32mb'\\xc6\\xa5\\xc9\\xa1\\x98\\xf0\\xa0\\x0f\\xad\\x1c%\u001b[0m\u001b[32m(\u001b[0m\u001b[32m!\\x01\\xd2\\xf96\\x10NHu\\n\\xcb\\x0b:\\xb1c\\xba2`\\r\\x90'\u001b[0m               │   \u001b[1;36m23885\u001b[0m │ \u001b[32mb'z4<\\xce\\x0f\\xbe\\x8d3\\xe2\\\\\\xd8vYP\\xcb\\\\g\\xc9?6'\u001b[0m                          │ \u001b[32mb'\\xdb\\xe4K\\x12\\x87\\xa9\\xd4\\x8b\\x8aJ\\xaa\\t\\xaft\\x0f2i\\x16\\xab\\xfa'\u001b[0m │ \u001b[32m68461500000000000 \u001b[0m │ \u001b[32mb''\u001b[0m                                                                                                                                                                                                                                                                                                              │     \u001b[1;36m90000\u001b[0m │ \u001b[1;36m-1993005056\u001b[0m │                \u001b[1;36m0\u001b[0m │                     \u001b[2mNULL\u001b[0m │            \u001b[2mNULL\u001b[0m │        \u001b[1;36m1\u001b[0m │\n",
       "│     \u001b[1;36m10861674\u001b[0m │                 \u001b[1;36m8\u001b[0m │ \u001b[32mb'\\xba\\x90\\xa4\\xf7\\xb8\\xe1\\x88?\\x8d\\xba7aS\\x0f\\xcc\\xa3\\xde\\x8b\\x19\\x1e:\\xc12\\xe6\\xd4\\xd5\\xabgg\\xd6\\xfc\\xc6'\u001b[0m  │    \u001b[1;36m3653\u001b[0m │ \u001b[32mb\"\\xe8N\\xb5\\xf8\\xacrZ.\\xfd\\x90\\x18\\xfe\\x9b\\xfbP\\xb3J'\\xe3\\xed\"\u001b[0m             │ \u001b[32mb'L\\xb3\\x84\\xe6\\xf3\\xf7Z\\x91\\x8c\\xdc,\\xb8u<^\\x9b\\xd5\\xd5\\xdf\\xae'\u001b[0m  │ \u001b[32m0                 \u001b[0m │ \u001b[32mb'D\\x1a>p\\x00\\x00\\x00\\x00\\x00\\x00\\x00\\x00\\x00\\x00\\x00\\x00\\x00\\x00\\x00\\x00\\x00\\x00\\x00\\x00\\x00\\x00\\x00\\x00\\x00\\x00\\x00\\x00\\x00\\x00\\x00\\x06\\x00\\x00\\x00\\x00\\x00\\x00\\x00\\x00\\x00\\x00\\x00\\x00\\x00\\x00\\x00\\x00\\x00\\x00\\x00\\x00\\x00\\x00\\x00\\xd8\\xd7&\\xb7\\x17z\\x87\\xa1 '\u001b[0m                                                │    \u001b[1;36m194218\u001b[0m │  \u001b[1;36m-698037760\u001b[0m │                \u001b[1;36m0\u001b[0m │                     \u001b[2mNULL\u001b[0m │            \u001b[2mNULL\u001b[0m │        \u001b[1;36m1\u001b[0m │\n",
       "│     \u001b[1;36m10861674\u001b[0m │                 \u001b[1;36m9\u001b[0m │ \u001b[32mb'K7\\xd2\\xf3C`\\x84W\\xca3\"\\xac\\xcd\\xab\u001b[0m\u001b[32m(\u001b[0m\u001b[32m\\x11\\xc7\\x07\\xac\\xf3\\xeb\\x07\\xa4\\r\\xd8\\xd9Vp\\x93\\xea\u001b[0m\u001b[32m[\u001b[0m\u001b[32m\\x82'\u001b[0m             │       \u001b[1;36m0\u001b[0m │ \u001b[32mb'Ae<\u001b[0m\u001b[32m}\u001b[0m\u001b[32ma`\\x9d\\x85o\u001b[0m\u001b[32m)\u001b[0m\u001b[32m5^@O1\\x0e\\xc4\\x14,\\xfb'\u001b[0m                                  │ \u001b[2mNULL\u001b[0m                                                               │ \u001b[32m0                 \u001b[0m │ \u001b[32mb'`\\x80`@Rk\\x03;.<\\x9f\\xd0\\x80<\\xe8\\x00\\x00\\x00`\\x00U4\\x80\\x15b\\x00\\x00!W`\\x00\\x80\\xfd\u001b[0m\u001b[32m[\u001b[0m\u001b[32mP`@Qb\\x004\\x138\\x03\\x80b\\x004\\x13\\x839\\x81\\x01`@\\x81\\x90Rb\\x00\\x00D\\x91b\\x00\\x01qV\u001b[0m\u001b[32m[\u001b[0m\u001b[32mB\\x81\\x10\\x15b\\x00\\x00pW`@'\u001b[0m+\u001b[1;36m13347\u001b[0m                                                                                                      │   \u001b[1;36m2853638\u001b[0m │   \u001b[1;36m891896832\u001b[0m │                \u001b[1;36m0\u001b[0m │                     \u001b[2mNULL\u001b[0m │            \u001b[2mNULL\u001b[0m │        \u001b[1;36m1\u001b[0m │\n",
       "│            \u001b[2m…\u001b[0m │                 \u001b[2m…\u001b[0m │ \u001b[2m…\u001b[0m                                                                                                            │       \u001b[2m…\u001b[0m │ \u001b[2m…\u001b[0m                                                                          │ \u001b[2m…\u001b[0m                                                                  │ \u001b[2m…\u001b[0m                  │ \u001b[2m…\u001b[0m                                                                                                                                                                                                                                                                                                                │         \u001b[2m…\u001b[0m │           \u001b[2m…\u001b[0m │                \u001b[2m…\u001b[0m │                        \u001b[2m…\u001b[0m │               \u001b[2m…\u001b[0m │        \u001b[2m…\u001b[0m │\n",
       "└──────────────┴───────────────────┴──────────────────────────────────────────────────────────────────────────────────────────────────────────────┴─────────┴────────────────────────────────────────────────────────────────────────────┴────────────────────────────────────────────────────────────────────┴────────────────────┴──────────────────────────────────────────────────────────────────────────────────────────────────────────────────────────────────────────────────────────────────────────────────────────────────────────────────────────────────────────────────────────────────────────────────────────────────────────────────┴───────────┴─────────────┴──────────────────┴──────────────────────────┴─────────────────┴──────────┘"
      ]
     },
     "execution_count": 180,
     "metadata": {},
     "output_type": "execute_result"
    }
   ],
   "source": [
    "t"
   ]
  },
  {
   "cell_type": "code",
   "execution_count": 106,
   "metadata": {},
   "outputs": [
    {
     "data": {
      "text/html": [
       "<pre style=\"white-space:pre;overflow-x:auto;line-height:normal;font-family:Menlo,'DejaVu Sans Mono',consolas,'Courier New',monospace\">┏━━━━━━━━━━━━━━━━━━━━━━┳━━━━━━━━━━━━━━━━━━━━━━━━━━━━━━━━━━━━━━━━━━━━━━━━━━━━━━━━━━━━━━━━┓\n",
       "┃<span style=\"font-weight: bold\"> value                </span>┃<span style=\"font-weight: bold\"> from_address                                                   </span>┃\n",
       "┡━━━━━━━━━━━━━━━━━━━━━━╇━━━━━━━━━━━━━━━━━━━━━━━━━━━━━━━━━━━━━━━━━━━━━━━━━━━━━━━━━━━━━━━━┩\n",
       "│ <span style=\"color: #7f7f7f; text-decoration-color: #7f7f7f\">string</span>               │ <span style=\"color: #7f7f7f; text-decoration-color: #7f7f7f\">binary</span>                                                         │\n",
       "├──────────────────────┼────────────────────────────────────────────────────────────────┤\n",
       "│ <span style=\"color: #008000; text-decoration-color: #008000\">40000000000000000000</span> │ <span style=\"color: #008000; text-decoration-color: #008000\">b'W\\xafy\\xbd\\xfbO\\x86\\xbc\\x81\\xb2\\x86\\x07\\x87\\xde#\\x88s\\x8e&amp;o'</span> │\n",
       "└──────────────────────┴────────────────────────────────────────────────────────────────┘\n",
       "</pre>\n"
      ],
      "text/plain": [
       "┏━━━━━━━━━━━━━━━━━━━━━━┳━━━━━━━━━━━━━━━━━━━━━━━━━━━━━━━━━━━━━━━━━━━━━━━━━━━━━━━━━━━━━━━━┓\n",
       "┃\u001b[1m \u001b[0m\u001b[1mvalue\u001b[0m\u001b[1m               \u001b[0m\u001b[1m \u001b[0m┃\u001b[1m \u001b[0m\u001b[1mfrom_address\u001b[0m\u001b[1m                                                  \u001b[0m\u001b[1m \u001b[0m┃\n",
       "┡━━━━━━━━━━━━━━━━━━━━━━╇━━━━━━━━━━━━━━━━━━━━━━━━━━━━━━━━━━━━━━━━━━━━━━━━━━━━━━━━━━━━━━━━┩\n",
       "│ \u001b[2mstring\u001b[0m               │ \u001b[2mbinary\u001b[0m                                                         │\n",
       "├──────────────────────┼────────────────────────────────────────────────────────────────┤\n",
       "│ \u001b[32m40000000000000000000\u001b[0m │ \u001b[32mb'W\\xafy\\xbd\\xfbO\\x86\\xbc\\x81\\xb2\\x86\\x07\\x87\\xde#\\x88s\\x8e&o'\u001b[0m │\n",
       "└──────────────────────┴────────────────────────────────────────────────────────────────┘"
      ]
     },
     "execution_count": 106,
     "metadata": {},
     "output_type": "execute_result"
    }
   ],
   "source": [
    "t.select([\"value\",\"from_address\"]).filter(t[\"value\"].cast(\"float\") >= 4.0e19)"
   ]
  },
  {
   "cell_type": "code",
   "execution_count": 120,
   "metadata": {},
   "outputs": [],
   "source": [
    "v = b'W\\xafy\\xbd\\xfbO\\x86\\xbc\\x81\\xb2\\x86\\x07\\x87\\xde#\\x88s\\x8e&o'\n",
    "a = \"0x57af79bdfb4f86bc81b2860787de2388738e266f\""
   ]
  },
  {
   "cell_type": "code",
   "execution_count": 129,
   "metadata": {},
   "outputs": [],
   "source": [
    "a2 = bytes.fromhex(a[2:])"
   ]
  },
  {
   "cell_type": "code",
   "execution_count": 128,
   "metadata": {},
   "outputs": [
    {
     "data": {
      "text/plain": [
       "b'W\\xafy\\xbd\\xfbO\\x86\\xbc\\x81\\xb2\\x86\\x07\\x87\\xde#\\x88s\\x8e&o'"
      ]
     },
     "execution_count": 128,
     "metadata": {},
     "output_type": "execute_result"
    }
   ],
   "source": [
    "v"
   ]
  },
  {
   "cell_type": "code",
   "execution_count": 133,
   "metadata": {},
   "outputs": [
    {
     "data": {
      "text/html": [
       "<pre style=\"white-space:pre;overflow-x:auto;line-height:normal;font-family:Menlo,'DejaVu Sans Mono',consolas,'Courier New',monospace\">┏━━━━━━━━━━━━━━━━━━━━┳━━━━━━━━━━━━━━━━━━━━━━━━━━━━━━━━━━━━━━━━━━━━━━━━━━━━━━━━━━━━━━━━━━━━━━━━━━━━┓\n",
       "┃<span style=\"font-weight: bold\"> value              </span>┃<span style=\"font-weight: bold\"> from_address                                                               </span>┃\n",
       "┡━━━━━━━━━━━━━━━━━━━━╇━━━━━━━━━━━━━━━━━━━━━━━━━━━━━━━━━━━━━━━━━━━━━━━━━━━━━━━━━━━━━━━━━━━━━━━━━━━━┩\n",
       "│ <span style=\"color: #7f7f7f; text-decoration-color: #7f7f7f\">string</span>             │ <span style=\"color: #7f7f7f; text-decoration-color: #7f7f7f\">binary</span>                                                                     │\n",
       "├────────────────────┼────────────────────────────────────────────────────────────────────────────┤\n",
       "│ <span style=\"color: #008000; text-decoration-color: #008000\">10000000000000000 </span> │ <span style=\"color: #008000; text-decoration-color: #008000\">b'\\xe5w\\xe9\\x074\\xb2\\x9c\\x94\\xe9\\x0b\\x03\\xfc\\x12\\x9e\\xf6\\xaa\\xfe\\x0f*\\xcf'</span> │\n",
       "│ <span style=\"color: #008000; text-decoration-color: #008000\">0                 </span> │ <span style=\"color: #008000; text-decoration-color: #008000\">b'\\xe6!\\x93\\xbc\\x1c4\\x0e\\xf2 \\\\\\x0b\\xd7\\x16\\x91\\xfa\\xd5\\xe5\\x07\"S'</span>         │\n",
       "│ <span style=\"color: #008000; text-decoration-color: #008000\">0                 </span> │ <span style=\"color: #008000; text-decoration-color: #008000\">b'\\xffIC*\\x1e\\xa8\\xacm\\x12(P\\x99\\xbaBm\\x1f\\x16\\xf2&lt;\\x8d'</span>                   │\n",
       "│ <span style=\"color: #008000; text-decoration-color: #008000\">292456800000000000</span> │ <span style=\"color: #008000; text-decoration-color: #008000\">b'I\\x8f\\xc48\\x13\\xf7d\\x13\\xd9\\xc0j\\xdd\\xc1\\xa9{\\xe6.0\\x13\\x08'</span>             │\n",
       "│ <span style=\"color: #008000; text-decoration-color: #008000\">0                 </span> │ <span style=\"color: #008000; text-decoration-color: #008000\">b'?\\\\\\xe5\\xfb\\xfe&gt;\\x9a\\xf3\\x97\\x1d\\xd83\\xd2k\\xa9\\xb5\\xc96\\xf0\\xbe'</span>         │\n",
       "│ <span style=\"color: #008000; text-decoration-color: #008000\">0                 </span> │ <span style=\"color: #008000; text-decoration-color: #008000\">b'\\xd5Q#J\\xe4!\\xe3\\xbc\\xba\\x99\\xa0\\xdams`t\\xf2!\\x92\\xff'</span>                   │\n",
       "│ <span style=\"color: #008000; text-decoration-color: #008000\">0                 </span> │ <span style=\"color: #008000; text-decoration-color: #008000\">b'VB\\x866 \\x92\\xd8\\xe7\\x93o\\x05IW\\x1a\\x80; :\\xac\\xed'</span>                      │\n",
       "│ <span style=\"color: #008000; text-decoration-color: #008000\">68461500000000000 </span> │ <span style=\"color: #008000; text-decoration-color: #008000\">b'z4&lt;\\xce\\x0f\\xbe\\x8d3\\xe2\\\\\\xd8vYP\\xcb\\\\g\\xc9?6'</span>                          │\n",
       "│ <span style=\"color: #008000; text-decoration-color: #008000\">0                 </span> │ <span style=\"color: #008000; text-decoration-color: #008000\">b\"\\xe8N\\xb5\\xf8\\xacrZ.\\xfd\\x90\\x18\\xfe\\x9b\\xfbP\\xb3J'\\xe3\\xed\"</span>             │\n",
       "│ <span style=\"color: #008000; text-decoration-color: #008000\">0                 </span> │ <span style=\"color: #008000; text-decoration-color: #008000\">b'Ae&lt;}a`\\x9d\\x85o)5^@O1\\x0e\\xc4\\x14,\\xfb'</span>                                  │\n",
       "│ <span style=\"color: #7f7f7f; text-decoration-color: #7f7f7f\">…</span>                  │ <span style=\"color: #7f7f7f; text-decoration-color: #7f7f7f\">…</span>                                                                          │\n",
       "└────────────────────┴────────────────────────────────────────────────────────────────────────────┘\n",
       "</pre>\n"
      ],
      "text/plain": [
       "┏━━━━━━━━━━━━━━━━━━━━┳━━━━━━━━━━━━━━━━━━━━━━━━━━━━━━━━━━━━━━━━━━━━━━━━━━━━━━━━━━━━━━━━━━━━━━━━━━━━┓\n",
       "┃\u001b[1m \u001b[0m\u001b[1mvalue\u001b[0m\u001b[1m             \u001b[0m\u001b[1m \u001b[0m┃\u001b[1m \u001b[0m\u001b[1mfrom_address\u001b[0m\u001b[1m                                                              \u001b[0m\u001b[1m \u001b[0m┃\n",
       "┡━━━━━━━━━━━━━━━━━━━━╇━━━━━━━━━━━━━━━━━━━━━━━━━━━━━━━━━━━━━━━━━━━━━━━━━━━━━━━━━━━━━━━━━━━━━━━━━━━━┩\n",
       "│ \u001b[2mstring\u001b[0m             │ \u001b[2mbinary\u001b[0m                                                                     │\n",
       "├────────────────────┼────────────────────────────────────────────────────────────────────────────┤\n",
       "│ \u001b[32m10000000000000000 \u001b[0m │ \u001b[32mb'\\xe5w\\xe9\\x074\\xb2\\x9c\\x94\\xe9\\x0b\\x03\\xfc\\x12\\x9e\\xf6\\xaa\\xfe\\x0f*\\xcf'\u001b[0m │\n",
       "│ \u001b[32m0                 \u001b[0m │ \u001b[32mb'\\xe6!\\x93\\xbc\\x1c4\\x0e\\xf2 \\\\\\x0b\\xd7\\x16\\x91\\xfa\\xd5\\xe5\\x07\"S'\u001b[0m         │\n",
       "│ \u001b[32m0                 \u001b[0m │ \u001b[32mb'\\xffIC*\\x1e\\xa8\\xacm\\x12\u001b[0m\u001b[32m(\u001b[0m\u001b[32mP\\x99\\xbaBm\\x1f\\x16\\xf2<\\x8d'\u001b[0m                   │\n",
       "│ \u001b[32m292456800000000000\u001b[0m │ \u001b[32mb'I\\x8f\\xc48\\x13\\xf7d\\x13\\xd9\\xc0j\\xdd\\xc1\\xa9\u001b[0m\u001b[32m{\u001b[0m\u001b[32m\\xe6.0\\x13\\x08'\u001b[0m             │\n",
       "│ \u001b[32m0                 \u001b[0m │ \u001b[32mb'?\\\\\\xe5\\xfb\\xfe>\\x9a\\xf3\\x97\\x1d\\xd83\\xd2k\\xa9\\xb5\\xc96\\xf0\\xbe'\u001b[0m         │\n",
       "│ \u001b[32m0                 \u001b[0m │ \u001b[32mb'\\xd5Q#J\\xe4!\\xe3\\xbc\\xba\\x99\\xa0\\xdams`t\\xf2!\\x92\\xff'\u001b[0m                   │\n",
       "│ \u001b[32m0                 \u001b[0m │ \u001b[32mb'VB\\x866 \\x92\\xd8\\xe7\\x93o\\x05IW\\x1a\\x80; :\\xac\\xed'\u001b[0m                      │\n",
       "│ \u001b[32m68461500000000000 \u001b[0m │ \u001b[32mb'z4<\\xce\\x0f\\xbe\\x8d3\\xe2\\\\\\xd8vYP\\xcb\\\\g\\xc9?6'\u001b[0m                          │\n",
       "│ \u001b[32m0                 \u001b[0m │ \u001b[32mb\"\\xe8N\\xb5\\xf8\\xacrZ.\\xfd\\x90\\x18\\xfe\\x9b\\xfbP\\xb3J'\\xe3\\xed\"\u001b[0m             │\n",
       "│ \u001b[32m0                 \u001b[0m │ \u001b[32mb'Ae<\u001b[0m\u001b[32m}\u001b[0m\u001b[32ma`\\x9d\\x85o\u001b[0m\u001b[32m)\u001b[0m\u001b[32m5^@O1\\x0e\\xc4\\x14,\\xfb'\u001b[0m                                  │\n",
       "│ \u001b[2m…\u001b[0m                  │ \u001b[2m…\u001b[0m                                                                          │\n",
       "└────────────────────┴────────────────────────────────────────────────────────────────────────────┘"
      ]
     },
     "execution_count": 133,
     "metadata": {},
     "output_type": "execute_result"
    }
   ],
   "source": [
    "t.select([\"value\",\"from_address\"]).filter(t[\"from_address\"] != a2)"
   ]
  },
  {
   "cell_type": "code",
   "execution_count": 84,
   "metadata": {},
   "outputs": [
    {
     "data": {
      "text/plain": [
       "'57af79bdfb4f86bc81b2860787de2388738e266f'"
      ]
     },
     "execution_count": 84,
     "metadata": {},
     "output_type": "execute_result"
    }
   ],
   "source": [
    "bytes.hex(v)"
   ]
  },
  {
   "cell_type": "code",
   "execution_count": 101,
   "metadata": {},
   "outputs": [
    {
     "data": {
      "text/plain": [
       "0    57af79bdfb4f86bc81b2860787de2388738e266f\n",
       "Name: from_address, dtype: object"
      ]
     },
     "execution_count": 101,
     "metadata": {},
     "output_type": "execute_result"
    }
   ],
   "source": [
    "t2.to_pandas()['from_address'].apply(lambda x:bytes.hex(x))"
   ]
  },
  {
   "cell_type": "code",
   "execution_count": 175,
   "metadata": {},
   "outputs": [],
   "source": [
    "p = t.to_pandas()\n",
    "p['addr'] = p['from_address'].apply(lambda x:\"0x\"+bytes.hex(x))\n",
    "#p['addr'] = p['from_address'].apply(lambda x:\"0x\")\n",
    "p['v'] = p['value'].astype(\"float\")\n",
    "p2 = p[['addr','v']]"
   ]
  },
  {
   "cell_type": "code",
   "execution_count": 176,
   "metadata": {},
   "outputs": [
    {
     "data": {
      "text/plain": [
       "addr     object\n",
       "v       float64\n",
       "dtype: object"
      ]
     },
     "execution_count": 176,
     "metadata": {},
     "output_type": "execute_result"
    }
   ],
   "source": [
    "p2.dtypes"
   ]
  },
  {
   "cell_type": "code",
   "execution_count": 149,
   "metadata": {},
   "outputs": [],
   "source": [
    "import altair as alt"
   ]
  },
  {
   "cell_type": "code",
   "execution_count": 177,
   "metadata": {},
   "outputs": [
    {
     "data": {
      "text/html": [
       "\n",
       "<style>\n",
       "  #altair-viz-b79b6835000b4ea08711e3933000a334.vega-embed {\n",
       "    width: 100%;\n",
       "    display: flex;\n",
       "  }\n",
       "\n",
       "  #altair-viz-b79b6835000b4ea08711e3933000a334.vega-embed details,\n",
       "  #altair-viz-b79b6835000b4ea08711e3933000a334.vega-embed details summary {\n",
       "    position: relative;\n",
       "  }\n",
       "</style>\n",
       "<div id=\"altair-viz-b79b6835000b4ea08711e3933000a334\"></div>\n",
       "<script type=\"text/javascript\">\n",
       "  var VEGA_DEBUG = (typeof VEGA_DEBUG == \"undefined\") ? {} : VEGA_DEBUG;\n",
       "  (function(spec, embedOpt){\n",
       "    let outputDiv = document.currentScript.previousElementSibling;\n",
       "    if (outputDiv.id !== \"altair-viz-b79b6835000b4ea08711e3933000a334\") {\n",
       "      outputDiv = document.getElementById(\"altair-viz-b79b6835000b4ea08711e3933000a334\");\n",
       "    }\n",
       "    const paths = {\n",
       "      \"vega\": \"https://cdn.jsdelivr.net/npm/vega@5?noext\",\n",
       "      \"vega-lib\": \"https://cdn.jsdelivr.net/npm/vega-lib?noext\",\n",
       "      \"vega-lite\": \"https://cdn.jsdelivr.net/npm/vega-lite@5.8.0?noext\",\n",
       "      \"vega-embed\": \"https://cdn.jsdelivr.net/npm/vega-embed@6?noext\",\n",
       "    };\n",
       "\n",
       "    function maybeLoadScript(lib, version) {\n",
       "      var key = `${lib.replace(\"-\", \"\")}_version`;\n",
       "      return (VEGA_DEBUG[key] == version) ?\n",
       "        Promise.resolve(paths[lib]) :\n",
       "        new Promise(function(resolve, reject) {\n",
       "          var s = document.createElement('script');\n",
       "          document.getElementsByTagName(\"head\")[0].appendChild(s);\n",
       "          s.async = true;\n",
       "          s.onload = () => {\n",
       "            VEGA_DEBUG[key] = version;\n",
       "            return resolve(paths[lib]);\n",
       "          };\n",
       "          s.onerror = () => reject(`Error loading script: ${paths[lib]}`);\n",
       "          s.src = paths[lib];\n",
       "        });\n",
       "    }\n",
       "\n",
       "    function showError(err) {\n",
       "      outputDiv.innerHTML = `<div class=\"error\" style=\"color:red;\">${err}</div>`;\n",
       "      throw err;\n",
       "    }\n",
       "\n",
       "    function displayChart(vegaEmbed) {\n",
       "      vegaEmbed(outputDiv, spec, embedOpt)\n",
       "        .catch(err => showError(`Javascript Error: ${err.message}<br>This usually means there's a typo in your chart specification. See the javascript console for the full traceback.`));\n",
       "    }\n",
       "\n",
       "    if(typeof define === \"function\" && define.amd) {\n",
       "      requirejs.config({paths});\n",
       "      require([\"vega-embed\"], displayChart, err => showError(`Error loading script: ${err.message}`));\n",
       "    } else {\n",
       "      maybeLoadScript(\"vega\", \"5\")\n",
       "        .then(() => maybeLoadScript(\"vega-lite\", \"5.8.0\"))\n",
       "        .then(() => maybeLoadScript(\"vega-embed\", \"6\"))\n",
       "        .catch(showError)\n",
       "        .then(() => displayChart(vegaEmbed));\n",
       "    }\n",
       "  })({\"config\": {\"view\": {\"continuousWidth\": 300, \"continuousHeight\": 300}}, \"data\": {\"name\": \"data-ac31ee9923b6a2d7aeca34939d022b13\"}, \"mark\": {\"type\": \"bar\"}, \"encoding\": {\"x\": {\"field\": \"addr\", \"type\": \"nominal\"}, \"y\": {\"field\": \"v\", \"type\": \"quantitative\"}}, \"$schema\": \"https://vega.github.io/schema/vega-lite/v5.8.0.json\", \"datasets\": {\"data-ac31ee9923b6a2d7aeca34939d022b13\": [{\"addr\": \"0xe577e90734b29c94e90b03fc129ef6aafe0f2acf\", \"v\": 1e+16}, {\"addr\": \"0xe62193bc1c340ef2205c0bd71691fad5e5072253\", \"v\": 0.0}, {\"addr\": \"0xff49432a1ea8ac6d12285099ba426d1f16f23c8d\", \"v\": 0.0}, {\"addr\": \"0x498fc43813f76413d9c06addc1a97be62e301308\", \"v\": 2.924568e+17}, {\"addr\": \"0x3f5ce5fbfe3e9af3971dd833d26ba9b5c936f0be\", \"v\": 0.0}, {\"addr\": \"0xd551234ae421e3bcba99a0da6d736074f22192ff\", \"v\": 0.0}, {\"addr\": \"0x564286362092d8e7936f0549571a803b203aaced\", \"v\": 0.0}, {\"addr\": \"0x7a343cce0fbe8d33e25cd8765950cb5c67c93f36\", \"v\": 6.84615e+16}, {\"addr\": \"0xe84eb5f8ac725a2efd9018fe9bfb50b34a27e3ed\", \"v\": 0.0}, {\"addr\": \"0x41653c7d61609d856f29355e404f310ec4142cfb\", \"v\": 0.0}, {\"addr\": \"0xab2109ad7f82bffe7c3cab3fda25e4799c28ea5b\", \"v\": 1.4666965e+17}, {\"addr\": \"0x22300d8e52552eff37c93035ee9b35e863e29db8\", \"v\": 4.780341e+16}, {\"addr\": \"0xbca586cf40bf8bf13b9cc0dfa689ff2d57feb87c\", \"v\": 2.645923e+16}, {\"addr\": \"0x85524290961da35dd06c53df1aae0799e27522cf\", \"v\": 7947880000000000.0}, {\"addr\": \"0xeb3df4a9b9f72f957f52e08e435460101601fca0\", \"v\": 2.649112e+16}, {\"addr\": \"0x2c366d190769a365fc1d8cf0e14b8b3ded80e610\", \"v\": 5.604303e+16}, {\"addr\": \"0x0b0d23f9b4e90849de2743d14c05f6c257a367d9\", \"v\": 0.0}, {\"addr\": \"0xd77bfd369d0615f1a6e612f1d13e55adb5ff2ee4\", \"v\": 6.135681e+16}, {\"addr\": \"0x72d65979eeff28bd36e4ebdc669e2035e9bc3d49\", \"v\": 6.82422e+16}, {\"addr\": \"0x6bb8ed600fbf6aeb7e596e720deb21f5b72a9d1a\", \"v\": 0.0}, {\"addr\": \"0x23153bf5c21ae784477f2847d9b3e90d0f84786f\", \"v\": 4.7033e+16}, {\"addr\": \"0x961fcab84a9f96a9843e1cf42a43e50155d0ba5d\", \"v\": 0.0}, {\"addr\": \"0xf175155d78ba9b0036cb1eb098afd71de24d9165\", \"v\": 3.009199751286563e+18}, {\"addr\": \"0x0308742f867a91b664775b1adf6961a5014ef928\", \"v\": 2.089453e+16}, {\"addr\": \"0x3d7740aa1cdd2b815a9aff4235cf76c5a6f36e4e\", \"v\": 2.7815675e+17}, {\"addr\": \"0xea4ade87fd4e20c1eb395873dda633b166165921\", \"v\": 2.040135e+16}, {\"addr\": \"0x177ded6213679d15878447f80e2a005957c6569b\", \"v\": 0.0}, {\"addr\": \"0x23153bf5c21ae784477f2847d9b3e90d0f84786f\", \"v\": 3.7960852e+17}, {\"addr\": \"0x8517a89b9c47a5631098b37587560262494f5c43\", \"v\": 0.0}, {\"addr\": \"0x7255f4d65ce085d218839de8aad1f388e9f930b1\", \"v\": 0.0}, {\"addr\": \"0xfbb1b73c4f0bda4f67dca266ce6ef42f520fbb98\", \"v\": 0.0}, {\"addr\": \"0x77e569f5dc38463a040f3c5a390142b420d06c39\", \"v\": 0.0}, {\"addr\": \"0x1f8f16a29251fa399d89e1005e3f95427bf5b1de\", \"v\": 3436502400000000.0}, {\"addr\": \"0x1f8f16a29251fa399d89e1005e3f95427bf5b1de\", \"v\": 3435523200000000.0}, {\"addr\": \"0x1f8f16a29251fa399d89e1005e3f95427bf5b1de\", \"v\": 3435523200000000.0}, {\"addr\": \"0x1f8f16a29251fa399d89e1005e3f95427bf5b1de\", \"v\": 3378432872759076.0}, {\"addr\": \"0x1f8f16a29251fa399d89e1005e3f95427bf5b1de\", \"v\": 3378432872759076.0}, {\"addr\": \"0x1f8f16a29251fa399d89e1005e3f95427bf5b1de\", \"v\": 3378432872759076.0}, {\"addr\": \"0x1f8f16a29251fa399d89e1005e3f95427bf5b1de\", \"v\": 3378432872759076.0}, {\"addr\": \"0x1f8f16a29251fa399d89e1005e3f95427bf5b1de\", \"v\": 3378432872759076.0}, {\"addr\": \"0x46340b20830761efd32832a74d7169b29feb9758\", \"v\": 2.44e+17}, {\"addr\": \"0x57af79bdfb4f86bc81b2860787de2388738e266f\", \"v\": 4e+19}, {\"addr\": \"0xc6a32f5a273bcfb28528e4dfb47c65799a0299c7\", \"v\": 0.0}, {\"addr\": \"0xffbe7b500bd2f222253858b593cb5bcc487d5ff4\", \"v\": 0.0}, {\"addr\": \"0x268cb4c8b97da9d146702d84501a64f597a3aa14\", \"v\": 0.0}, {\"addr\": \"0x7c8ac515eeb0efea9ef4cbfb9cf2da072898100f\", \"v\": 0.0}, {\"addr\": \"0x5d0dc369b50a916dc0764ebb66f9b4cd94fe0d9d\", \"v\": 0.0}, {\"addr\": \"0x9eda91cb2b5c7b33cb9f066c37972d9605e77367\", \"v\": 3e+18}, {\"addr\": \"0x9ec1a8c290d8e08729b5618326b2723f7771f981\", \"v\": 0.0}, {\"addr\": \"0x43c1bf1a33506d2d3f023a1f354e608e7784ac46\", \"v\": 0.0}, {\"addr\": \"0xf9ac33287f68760f956f15381079f6cc4b7ca277\", \"v\": 0.0}, {\"addr\": \"0x8365efb25d0822aaf15ee1d314147b6a7831c403\", \"v\": 9765000000000000.0}, {\"addr\": \"0x11c1ad01c9ba56b9673cdd31a1ea047053d12dba\", \"v\": 0.0}, {\"addr\": \"0x06b8c5883ec71bc3f4b332081519f23834c8706e\", \"v\": 2.0779246197e+19}]}}, {\"mode\": \"vega-lite\"});\n",
       "</script>"
      ],
      "text/plain": [
       "alt.Chart(...)"
      ]
     },
     "execution_count": 177,
     "metadata": {},
     "output_type": "execute_result"
    }
   ],
   "source": [
    "alt.Chart(p2).mark_bar().encode(x='addr',y='v')"
   ]
  },
  {
   "cell_type": "code",
   "execution_count": 166,
   "metadata": {},
   "outputs": [
    {
     "name": "stdout",
     "output_type": "stream",
     "text": [
      "a     object\n",
      "b    float64\n",
      "dtype: object\n"
     ]
    },
    {
     "data": {
      "text/html": [
       "\n",
       "<style>\n",
       "  #altair-viz-e57b782855c04a7f971dd4db07d218ec.vega-embed {\n",
       "    width: 100%;\n",
       "    display: flex;\n",
       "  }\n",
       "\n",
       "  #altair-viz-e57b782855c04a7f971dd4db07d218ec.vega-embed details,\n",
       "  #altair-viz-e57b782855c04a7f971dd4db07d218ec.vega-embed details summary {\n",
       "    position: relative;\n",
       "  }\n",
       "</style>\n",
       "<div id=\"altair-viz-e57b782855c04a7f971dd4db07d218ec\"></div>\n",
       "<script type=\"text/javascript\">\n",
       "  var VEGA_DEBUG = (typeof VEGA_DEBUG == \"undefined\") ? {} : VEGA_DEBUG;\n",
       "  (function(spec, embedOpt){\n",
       "    let outputDiv = document.currentScript.previousElementSibling;\n",
       "    if (outputDiv.id !== \"altair-viz-e57b782855c04a7f971dd4db07d218ec\") {\n",
       "      outputDiv = document.getElementById(\"altair-viz-e57b782855c04a7f971dd4db07d218ec\");\n",
       "    }\n",
       "    const paths = {\n",
       "      \"vega\": \"https://cdn.jsdelivr.net/npm/vega@5?noext\",\n",
       "      \"vega-lib\": \"https://cdn.jsdelivr.net/npm/vega-lib?noext\",\n",
       "      \"vega-lite\": \"https://cdn.jsdelivr.net/npm/vega-lite@5.8.0?noext\",\n",
       "      \"vega-embed\": \"https://cdn.jsdelivr.net/npm/vega-embed@6?noext\",\n",
       "    };\n",
       "\n",
       "    function maybeLoadScript(lib, version) {\n",
       "      var key = `${lib.replace(\"-\", \"\")}_version`;\n",
       "      return (VEGA_DEBUG[key] == version) ?\n",
       "        Promise.resolve(paths[lib]) :\n",
       "        new Promise(function(resolve, reject) {\n",
       "          var s = document.createElement('script');\n",
       "          document.getElementsByTagName(\"head\")[0].appendChild(s);\n",
       "          s.async = true;\n",
       "          s.onload = () => {\n",
       "            VEGA_DEBUG[key] = version;\n",
       "            return resolve(paths[lib]);\n",
       "          };\n",
       "          s.onerror = () => reject(`Error loading script: ${paths[lib]}`);\n",
       "          s.src = paths[lib];\n",
       "        });\n",
       "    }\n",
       "\n",
       "    function showError(err) {\n",
       "      outputDiv.innerHTML = `<div class=\"error\" style=\"color:red;\">${err}</div>`;\n",
       "      throw err;\n",
       "    }\n",
       "\n",
       "    function displayChart(vegaEmbed) {\n",
       "      vegaEmbed(outputDiv, spec, embedOpt)\n",
       "        .catch(err => showError(`Javascript Error: ${err.message}<br>This usually means there's a typo in your chart specification. See the javascript console for the full traceback.`));\n",
       "    }\n",
       "\n",
       "    if(typeof define === \"function\" && define.amd) {\n",
       "      requirejs.config({paths});\n",
       "      require([\"vega-embed\"], displayChart, err => showError(`Error loading script: ${err.message}`));\n",
       "    } else {\n",
       "      maybeLoadScript(\"vega\", \"5\")\n",
       "        .then(() => maybeLoadScript(\"vega-lite\", \"5.8.0\"))\n",
       "        .then(() => maybeLoadScript(\"vega-embed\", \"6\"))\n",
       "        .catch(showError)\n",
       "        .then(() => displayChart(vegaEmbed));\n",
       "    }\n",
       "  })({\"config\": {\"view\": {\"continuousWidth\": 300, \"continuousHeight\": 300}}, \"data\": {\"name\": \"data-9524677023462b7c1f1ac34774bf590b\"}, \"mark\": {\"type\": \"bar\"}, \"encoding\": {\"x\": {\"field\": \"a\", \"type\": \"nominal\"}, \"y\": {\"field\": \"b\", \"type\": \"quantitative\"}}, \"$schema\": \"https://vega.github.io/schema/vega-lite/v5.8.0.json\", \"datasets\": {\"data-9524677023462b7c1f1ac34774bf590b\": [{\"a\": \"A\", \"b\": 28.4}, {\"a\": \"B\", \"b\": 55.1}, {\"a\": \"C\", \"b\": 43.123}, {\"a\": \"D\", \"b\": 91.0}, {\"a\": \"E\", \"b\": 81.0}, {\"a\": \"F\", \"b\": -53.0}, {\"a\": \"G\", \"b\": 19.0}, {\"a\": \"H\", \"b\": -87.0}, {\"a\": \"I\", \"b\": 52.321}]}}, {\"mode\": \"vega-lite\"});\n",
       "</script>"
      ],
      "text/plain": [
       "alt.Chart(...)"
      ]
     },
     "execution_count": 166,
     "metadata": {},
     "output_type": "execute_result"
    }
   ],
   "source": [
    "import pandas as pd\n",
    "source = pd.DataFrame({\n",
    "    'a': ['A', 'B', 'C', 'D', 'E', 'F', 'G', 'H', 'I'],\n",
    "    'b': [28.4, 55.1, 43.123, 91, 81, -53, 19, -87, 52.321]\n",
    "})\n",
    "\n",
    "print(source.dtypes)\n",
    "\n",
    "alt.Chart(source).mark_bar().encode(\n",
    "    x='a',\n",
    "    y='b'\n",
    ")"
   ]
  },
  {
   "cell_type": "code",
   "execution_count": null,
   "metadata": {},
   "outputs": [],
   "source": []
  }
 ],
 "metadata": {
  "kernelspec": {
   "display_name": "Python 3 (ipykernel)",
   "language": "python",
   "name": "python3"
  },
  "language_info": {
   "codemirror_mode": {
    "name": "ipython",
    "version": 3
   },
   "file_extension": ".py",
   "mimetype": "text/x-python",
   "name": "python",
   "nbconvert_exporter": "python",
   "pygments_lexer": "ipython3",
   "version": "3.8.10"
  }
 },
 "nbformat": 4,
 "nbformat_minor": 4
}
